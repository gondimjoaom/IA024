{
 "cells": [
  {
   "cell_type": "code",
   "execution_count": 2,
   "id": "de514e8e-28e3-42ba-87ac-abeeeb38e180",
   "metadata": {},
   "outputs": [],
   "source": [
    "import pandas as pd\n",
    "import numpy as np\n",
    "import seaborn as sns\n",
    "import matplotlib.pyplot as plt"
   ]
  },
  {
   "cell_type": "code",
   "execution_count": 3,
   "id": "cb6866a3-5f34-4c68-8a70-aa564097d2c7",
   "metadata": {},
   "outputs": [
    {
     "data": {
      "text/html": [
       "<div>\n",
       "<style scoped>\n",
       "    .dataframe tbody tr th:only-of-type {\n",
       "        vertical-align: middle;\n",
       "    }\n",
       "\n",
       "    .dataframe tbody tr th {\n",
       "        vertical-align: top;\n",
       "    }\n",
       "\n",
       "    .dataframe thead th {\n",
       "        text-align: right;\n",
       "    }\n",
       "</style>\n",
       "<table border=\"1\" class=\"dataframe\">\n",
       "  <thead>\n",
       "    <tr style=\"text-align: right;\">\n",
       "      <th></th>\n",
       "      <th>Diabetes_binary</th>\n",
       "      <th>HighBP</th>\n",
       "      <th>HighChol</th>\n",
       "      <th>CholCheck</th>\n",
       "      <th>BMI</th>\n",
       "      <th>Smoker</th>\n",
       "      <th>Stroke</th>\n",
       "      <th>HeartDiseaseorAttack</th>\n",
       "      <th>PhysActivity</th>\n",
       "      <th>Fruits</th>\n",
       "      <th>...</th>\n",
       "      <th>AnyHealthcare</th>\n",
       "      <th>NoDocbcCost</th>\n",
       "      <th>GenHlth</th>\n",
       "      <th>MentHlth</th>\n",
       "      <th>PhysHlth</th>\n",
       "      <th>DiffWalk</th>\n",
       "      <th>Sex</th>\n",
       "      <th>Age</th>\n",
       "      <th>Education</th>\n",
       "      <th>Income</th>\n",
       "    </tr>\n",
       "  </thead>\n",
       "  <tbody>\n",
       "    <tr>\n",
       "      <th>0</th>\n",
       "      <td>0.0</td>\n",
       "      <td>1.0</td>\n",
       "      <td>1.0</td>\n",
       "      <td>1.0</td>\n",
       "      <td>40.0</td>\n",
       "      <td>1.0</td>\n",
       "      <td>0.0</td>\n",
       "      <td>0.0</td>\n",
       "      <td>0.0</td>\n",
       "      <td>0.0</td>\n",
       "      <td>...</td>\n",
       "      <td>1.0</td>\n",
       "      <td>0.0</td>\n",
       "      <td>5.0</td>\n",
       "      <td>18.0</td>\n",
       "      <td>15.0</td>\n",
       "      <td>1.0</td>\n",
       "      <td>0.0</td>\n",
       "      <td>9.0</td>\n",
       "      <td>4.0</td>\n",
       "      <td>3.0</td>\n",
       "    </tr>\n",
       "    <tr>\n",
       "      <th>1</th>\n",
       "      <td>0.0</td>\n",
       "      <td>0.0</td>\n",
       "      <td>0.0</td>\n",
       "      <td>0.0</td>\n",
       "      <td>25.0</td>\n",
       "      <td>1.0</td>\n",
       "      <td>0.0</td>\n",
       "      <td>0.0</td>\n",
       "      <td>1.0</td>\n",
       "      <td>0.0</td>\n",
       "      <td>...</td>\n",
       "      <td>0.0</td>\n",
       "      <td>1.0</td>\n",
       "      <td>3.0</td>\n",
       "      <td>0.0</td>\n",
       "      <td>0.0</td>\n",
       "      <td>0.0</td>\n",
       "      <td>0.0</td>\n",
       "      <td>7.0</td>\n",
       "      <td>6.0</td>\n",
       "      <td>1.0</td>\n",
       "    </tr>\n",
       "    <tr>\n",
       "      <th>2</th>\n",
       "      <td>0.0</td>\n",
       "      <td>1.0</td>\n",
       "      <td>1.0</td>\n",
       "      <td>1.0</td>\n",
       "      <td>28.0</td>\n",
       "      <td>0.0</td>\n",
       "      <td>0.0</td>\n",
       "      <td>0.0</td>\n",
       "      <td>0.0</td>\n",
       "      <td>1.0</td>\n",
       "      <td>...</td>\n",
       "      <td>1.0</td>\n",
       "      <td>1.0</td>\n",
       "      <td>5.0</td>\n",
       "      <td>30.0</td>\n",
       "      <td>30.0</td>\n",
       "      <td>1.0</td>\n",
       "      <td>0.0</td>\n",
       "      <td>9.0</td>\n",
       "      <td>4.0</td>\n",
       "      <td>8.0</td>\n",
       "    </tr>\n",
       "    <tr>\n",
       "      <th>3</th>\n",
       "      <td>0.0</td>\n",
       "      <td>1.0</td>\n",
       "      <td>0.0</td>\n",
       "      <td>1.0</td>\n",
       "      <td>27.0</td>\n",
       "      <td>0.0</td>\n",
       "      <td>0.0</td>\n",
       "      <td>0.0</td>\n",
       "      <td>1.0</td>\n",
       "      <td>1.0</td>\n",
       "      <td>...</td>\n",
       "      <td>1.0</td>\n",
       "      <td>0.0</td>\n",
       "      <td>2.0</td>\n",
       "      <td>0.0</td>\n",
       "      <td>0.0</td>\n",
       "      <td>0.0</td>\n",
       "      <td>0.0</td>\n",
       "      <td>11.0</td>\n",
       "      <td>3.0</td>\n",
       "      <td>6.0</td>\n",
       "    </tr>\n",
       "    <tr>\n",
       "      <th>4</th>\n",
       "      <td>0.0</td>\n",
       "      <td>1.0</td>\n",
       "      <td>1.0</td>\n",
       "      <td>1.0</td>\n",
       "      <td>24.0</td>\n",
       "      <td>0.0</td>\n",
       "      <td>0.0</td>\n",
       "      <td>0.0</td>\n",
       "      <td>1.0</td>\n",
       "      <td>1.0</td>\n",
       "      <td>...</td>\n",
       "      <td>1.0</td>\n",
       "      <td>0.0</td>\n",
       "      <td>2.0</td>\n",
       "      <td>3.0</td>\n",
       "      <td>0.0</td>\n",
       "      <td>0.0</td>\n",
       "      <td>0.0</td>\n",
       "      <td>11.0</td>\n",
       "      <td>5.0</td>\n",
       "      <td>4.0</td>\n",
       "    </tr>\n",
       "  </tbody>\n",
       "</table>\n",
       "<p>5 rows × 22 columns</p>\n",
       "</div>"
      ],
      "text/plain": [
       "   Diabetes_binary  HighBP  HighChol  CholCheck   BMI  Smoker  Stroke  \\\n",
       "0              0.0     1.0       1.0        1.0  40.0     1.0     0.0   \n",
       "1              0.0     0.0       0.0        0.0  25.0     1.0     0.0   \n",
       "2              0.0     1.0       1.0        1.0  28.0     0.0     0.0   \n",
       "3              0.0     1.0       0.0        1.0  27.0     0.0     0.0   \n",
       "4              0.0     1.0       1.0        1.0  24.0     0.0     0.0   \n",
       "\n",
       "   HeartDiseaseorAttack  PhysActivity  Fruits  ...  AnyHealthcare  \\\n",
       "0                   0.0           0.0     0.0  ...            1.0   \n",
       "1                   0.0           1.0     0.0  ...            0.0   \n",
       "2                   0.0           0.0     1.0  ...            1.0   \n",
       "3                   0.0           1.0     1.0  ...            1.0   \n",
       "4                   0.0           1.0     1.0  ...            1.0   \n",
       "\n",
       "   NoDocbcCost  GenHlth  MentHlth  PhysHlth  DiffWalk  Sex   Age  Education  \\\n",
       "0          0.0      5.0      18.0      15.0       1.0  0.0   9.0        4.0   \n",
       "1          1.0      3.0       0.0       0.0       0.0  0.0   7.0        6.0   \n",
       "2          1.0      5.0      30.0      30.0       1.0  0.0   9.0        4.0   \n",
       "3          0.0      2.0       0.0       0.0       0.0  0.0  11.0        3.0   \n",
       "4          0.0      2.0       3.0       0.0       0.0  0.0  11.0        5.0   \n",
       "\n",
       "   Income  \n",
       "0     3.0  \n",
       "1     1.0  \n",
       "2     8.0  \n",
       "3     6.0  \n",
       "4     4.0  \n",
       "\n",
       "[5 rows x 22 columns]"
      ]
     },
     "execution_count": 3,
     "metadata": {},
     "output_type": "execute_result"
    }
   ],
   "source": [
    "df = pd.read_csv(\"diabetes_binary_health_indicators_BRFSS2015.csv\")\n",
    "df.head()"
   ]
  },
  {
   "cell_type": "code",
   "execution_count": 4,
   "id": "75c1e433-e063-4bf8-b2f5-9b513992db46",
   "metadata": {},
   "outputs": [],
   "source": [
    "X_all = df[[feat for feat in df.columns if feat != \"Diabetes_binary\"]]\n",
    "Y_all = df[\"Diabetes_binary\"]"
   ]
  },
  {
   "cell_type": "code",
   "execution_count": 4,
   "id": "2b0d0ca4-d722-4d56-a59b-b39bea4f8805",
   "metadata": {},
   "outputs": [
    {
     "data": {
      "text/plain": [
       "[Text(0, 0, '218334'), Text(0, 0, '35346')]"
      ]
     },
     "execution_count": 4,
     "metadata": {},
     "output_type": "execute_result"
    },
    {
     "data": {
      "image/png": "[encoded data removed]",
      "text/plain": [
       "<Figure size 640x480 with 1 Axes>"
      ]
     },
     "metadata": {},
     "output_type": "display_data"
    }
   ],
   "source": [
    "ax=sns.countplot(data=df, x=\"Diabetes_binary\")\n",
    "ax.bar_label(ax.containers[0])"
   ]
  },
  {
   "cell_type": "code",
   "execution_count": 5,
   "id": "88171924-2483-4cef-a2a8-743d794d677a",
   "metadata": {},
   "outputs": [],
   "source": [
    "from sklearn.model_selection import train_test_split"
   ]
  },
  {
   "cell_type": "code",
   "execution_count": 6,
   "id": "bb7afb91-5cca-4c4f-8ef9-855ab83079f7",
   "metadata": {},
   "outputs": [],
   "source": [
    "# Dados reservados para validação final do modelo\n",
    "X, X_test, Y, y_test = train_test_split(X_all, Y_all, test_size=0.1, random_state=416, stratify=Y_all)"
   ]
  },
  {
   "cell_type": "code",
   "execution_count": 7,
   "id": "1311c7a9-4218-4fa2-9c85-8a9a5073ebeb",
   "metadata": {},
   "outputs": [
    {
     "data": {
      "text/plain": [
       "[Text(0, 0, '196501'), Text(0, 0, '31811')]"
      ]
     },
     "execution_count": 7,
     "metadata": {},
     "output_type": "execute_result"
    },
    {
     "data": {
      "image/png": "[encoded data removed]",
      "text/plain": [
       "<Figure size 640x480 with 1 Axes>"
      ]
     },
     "metadata": {},
     "output_type": "display_data"
    }
   ],
   "source": [
    "ax=sns.countplot(data=df.iloc[Y.index], x=\"Diabetes_binary\")\n",
    "ax.bar_label(ax.containers[0])"
   ]
  },
  {
   "cell_type": "code",
   "execution_count": 7,
   "id": "f8f4501c-e4cd-4c9f-9b60-7a46f2b69bae",
   "metadata": {},
   "outputs": [],
   "source": [
    "from sklearn.ensemble import BaggingClassifier\n",
    "from sklearn.linear_model import LogisticRegression\n",
    "from sklearn.model_selection import GridSearchCV\n"
   ]
  },
  {
   "cell_type": "markdown",
   "id": "87c23956-a892-41a4-842b-fc57e36aba8d",
   "metadata": {},
   "source": [
    "Fazendo testes de mudanças de parâmetros com auxílio de GridSearch"
   ]
  },
  {
   "cell_type": "markdown",
   "id": "09fe4dc3-2581-4c81-a105-f856711087cf",
   "metadata": {},
   "source": [
    "usamos f1 para avaliar os treinamentos porque achávamos que era melhor para garantir um bom recall"
   ]
  },
  {
   "cell_type": "code",
   "execution_count": 13,
   "id": "6f2ca724-f381-41b0-9c32-ebead789eced",
   "metadata": {},
   "outputs": [],
   "source": [
    "parameters = {'n_estimators':(10, 50, 100), \"max_features\": (.25, .5, .75, 1.),}"
   ]
  },
  {
   "cell_type": "code",
   "execution_count": 14,
   "id": "8d56d3cf-68df-4775-8b59-0e26bee29bb6",
   "metadata": {},
   "outputs": [
    {
     "ename": "KeyboardInterrupt",
     "evalue": "",
     "output_type": "error",
     "traceback": [
      "\u001b[0;31m---------------------------------------------------------------------------\u001b[0m",
      "\u001b[0;31mKeyboardInterrupt\u001b[0m                         Traceback (most recent call last)",
      "Cell \u001b[0;32mIn[14], line 3\u001b[0m\n\u001b[1;32m      1\u001b[0m classifier \u001b[38;5;241m=\u001b[39m BaggingClassifier(estimator\u001b[38;5;241m=\u001b[39mLogisticRegression(class_weight\u001b[38;5;241m=\u001b[39m\u001b[38;5;124m\"\u001b[39m\u001b[38;5;124mbalanced\u001b[39m\u001b[38;5;124m\"\u001b[39m, max_iter\u001b[38;5;241m=\u001b[39m\u001b[38;5;241m1000000\u001b[39m, solver\u001b[38;5;241m=\u001b[39m\u001b[38;5;124m'\u001b[39m\u001b[38;5;124msaga\u001b[39m\u001b[38;5;124m'\u001b[39m, C\u001b[38;5;241m=\u001b[39m\u001b[38;5;241m0.01\u001b[39m, penalty\u001b[38;5;241m=\u001b[39m\u001b[38;5;124m'\u001b[39m\u001b[38;5;124ml2\u001b[39m\u001b[38;5;124m'\u001b[39m, n_jobs\u001b[38;5;241m=\u001b[39m\u001b[38;5;241m12\u001b[39m))\n\u001b[1;32m      2\u001b[0m gridsearch \u001b[38;5;241m=\u001b[39m GridSearchCV(classifier, parameters, cv\u001b[38;5;241m=\u001b[39m\u001b[38;5;241m5\u001b[39m, n_jobs\u001b[38;5;241m=\u001b[39m\u001b[38;5;241m8\u001b[39m, scoring\u001b[38;5;241m=\u001b[39m\u001b[38;5;124m\"\u001b[39m\u001b[38;5;124mf1\u001b[39m\u001b[38;5;124m\"\u001b[39m, verbose\u001b[38;5;241m=\u001b[39m\u001b[38;5;241m0\u001b[39m)\n\u001b[0;32m----> 3\u001b[0m \u001b[43mgridsearch\u001b[49m\u001b[38;5;241;43m.\u001b[39;49m\u001b[43mfit\u001b[49m\u001b[43m(\u001b[49m\u001b[43mX\u001b[49m\u001b[43m,\u001b[49m\u001b[43m \u001b[49m\u001b[43mY\u001b[49m\u001b[43m)\u001b[49m\n",
      "File \u001b[0;32m~/Documents/Unicamp/2024.1/IA/env/lib/python3.12/site-packages/sklearn/base.py:1473\u001b[0m, in \u001b[0;36m_fit_context.<locals>.decorator.<locals>.wrapper\u001b[0;34m(estimator, *args, **kwargs)\u001b[0m\n\u001b[1;32m   1466\u001b[0m     estimator\u001b[38;5;241m.\u001b[39m_validate_params()\n\u001b[1;32m   1468\u001b[0m \u001b[38;5;28;01mwith\u001b[39;00m config_context(\n\u001b[1;32m   1469\u001b[0m     skip_parameter_validation\u001b[38;5;241m=\u001b[39m(\n\u001b[1;32m   1470\u001b[0m         prefer_skip_nested_validation \u001b[38;5;129;01mor\u001b[39;00m global_skip_validation\n\u001b[1;32m   1471\u001b[0m     )\n\u001b[1;32m   1472\u001b[0m ):\n\u001b[0;32m-> 1473\u001b[0m     \u001b[38;5;28;01mreturn\u001b[39;00m \u001b[43mfit_method\u001b[49m\u001b[43m(\u001b[49m\u001b[43mestimator\u001b[49m\u001b[43m,\u001b[49m\u001b[43m \u001b[49m\u001b[38;5;241;43m*\u001b[39;49m\u001b[43margs\u001b[49m\u001b[43m,\u001b[49m\u001b[43m \u001b[49m\u001b[38;5;241;43m*\u001b[39;49m\u001b[38;5;241;43m*\u001b[39;49m\u001b[43mkwargs\u001b[49m\u001b[43m)\u001b[49m\n",
      "File \u001b[0;32m~/Documents/Unicamp/2024.1/IA/env/lib/python3.12/site-packages/sklearn/model_selection/_search.py:968\u001b[0m, in \u001b[0;36mBaseSearchCV.fit\u001b[0;34m(self, X, y, **params)\u001b[0m\n\u001b[1;32m    962\u001b[0m     results \u001b[38;5;241m=\u001b[39m \u001b[38;5;28mself\u001b[39m\u001b[38;5;241m.\u001b[39m_format_results(\n\u001b[1;32m    963\u001b[0m         all_candidate_params, n_splits, all_out, all_more_results\n\u001b[1;32m    964\u001b[0m     )\n\u001b[1;32m    966\u001b[0m     \u001b[38;5;28;01mreturn\u001b[39;00m results\n\u001b[0;32m--> 968\u001b[0m \u001b[38;5;28;43mself\u001b[39;49m\u001b[38;5;241;43m.\u001b[39;49m\u001b[43m_run_search\u001b[49m\u001b[43m(\u001b[49m\u001b[43mevaluate_candidates\u001b[49m\u001b[43m)\u001b[49m\n\u001b[1;32m    970\u001b[0m \u001b[38;5;66;03m# multimetric is determined here because in the case of a callable\u001b[39;00m\n\u001b[1;32m    971\u001b[0m \u001b[38;5;66;03m# self.scoring the return type is only known after calling\u001b[39;00m\n\u001b[1;32m    972\u001b[0m first_test_score \u001b[38;5;241m=\u001b[39m all_out[\u001b[38;5;241m0\u001b[39m][\u001b[38;5;124m\"\u001b[39m\u001b[38;5;124mtest_scores\u001b[39m\u001b[38;5;124m\"\u001b[39m]\n",
      "File \u001b[0;32m~/Documents/Unicamp/2024.1/IA/env/lib/python3.12/site-packages/sklearn/model_selection/_search.py:1543\u001b[0m, in \u001b[0;36mGridSearchCV._run_search\u001b[0;34m(self, evaluate_candidates)\u001b[0m\n\u001b[1;32m   1541\u001b[0m \u001b[38;5;28;01mdef\u001b[39;00m \u001b[38;5;21m_run_search\u001b[39m(\u001b[38;5;28mself\u001b[39m, evaluate_candidates):\n\u001b[1;32m   1542\u001b[0m \u001b[38;5;250m    \u001b[39m\u001b[38;5;124;03m\"\"\"Search all candidates in param_grid\"\"\"\u001b[39;00m\n\u001b[0;32m-> 1543\u001b[0m     \u001b[43mevaluate_candidates\u001b[49m\u001b[43m(\u001b[49m\u001b[43mParameterGrid\u001b[49m\u001b[43m(\u001b[49m\u001b[38;5;28;43mself\u001b[39;49m\u001b[38;5;241;43m.\u001b[39;49m\u001b[43mparam_grid\u001b[49m\u001b[43m)\u001b[49m\u001b[43m)\u001b[49m\n",
      "File \u001b[0;32m~/Documents/Unicamp/2024.1/IA/env/lib/python3.12/site-packages/sklearn/model_selection/_search.py:914\u001b[0m, in \u001b[0;36mBaseSearchCV.fit.<locals>.evaluate_candidates\u001b[0;34m(candidate_params, cv, more_results)\u001b[0m\n\u001b[1;32m    906\u001b[0m \u001b[38;5;28;01mif\u001b[39;00m \u001b[38;5;28mself\u001b[39m\u001b[38;5;241m.\u001b[39mverbose \u001b[38;5;241m>\u001b[39m \u001b[38;5;241m0\u001b[39m:\n\u001b[1;32m    907\u001b[0m     \u001b[38;5;28mprint\u001b[39m(\n\u001b[1;32m    908\u001b[0m         \u001b[38;5;124m\"\u001b[39m\u001b[38;5;124mFitting \u001b[39m\u001b[38;5;132;01m{0}\u001b[39;00m\u001b[38;5;124m folds for each of \u001b[39m\u001b[38;5;132;01m{1}\u001b[39;00m\u001b[38;5;124m candidates,\u001b[39m\u001b[38;5;124m\"\u001b[39m\n\u001b[1;32m    909\u001b[0m         \u001b[38;5;124m\"\u001b[39m\u001b[38;5;124m totalling \u001b[39m\u001b[38;5;132;01m{2}\u001b[39;00m\u001b[38;5;124m fits\u001b[39m\u001b[38;5;124m\"\u001b[39m\u001b[38;5;241m.\u001b[39mformat(\n\u001b[1;32m    910\u001b[0m             n_splits, n_candidates, n_candidates \u001b[38;5;241m*\u001b[39m n_splits\n\u001b[1;32m    911\u001b[0m         )\n\u001b[1;32m    912\u001b[0m     )\n\u001b[0;32m--> 914\u001b[0m out \u001b[38;5;241m=\u001b[39m \u001b[43mparallel\u001b[49m\u001b[43m(\u001b[49m\n\u001b[1;32m    915\u001b[0m \u001b[43m    \u001b[49m\u001b[43mdelayed\u001b[49m\u001b[43m(\u001b[49m\u001b[43m_fit_and_score\u001b[49m\u001b[43m)\u001b[49m\u001b[43m(\u001b[49m\n\u001b[1;32m    916\u001b[0m \u001b[43m        \u001b[49m\u001b[43mclone\u001b[49m\u001b[43m(\u001b[49m\u001b[43mbase_estimator\u001b[49m\u001b[43m)\u001b[49m\u001b[43m,\u001b[49m\n\u001b[1;32m    917\u001b[0m \u001b[43m        \u001b[49m\u001b[43mX\u001b[49m\u001b[43m,\u001b[49m\n\u001b[1;32m    918\u001b[0m \u001b[43m        \u001b[49m\u001b[43my\u001b[49m\u001b[43m,\u001b[49m\n\u001b[1;32m    919\u001b[0m \u001b[43m        \u001b[49m\u001b[43mtrain\u001b[49m\u001b[38;5;241;43m=\u001b[39;49m\u001b[43mtrain\u001b[49m\u001b[43m,\u001b[49m\n\u001b[1;32m    920\u001b[0m \u001b[43m        \u001b[49m\u001b[43mtest\u001b[49m\u001b[38;5;241;43m=\u001b[39;49m\u001b[43mtest\u001b[49m\u001b[43m,\u001b[49m\n\u001b[1;32m    921\u001b[0m \u001b[43m        \u001b[49m\u001b[43mparameters\u001b[49m\u001b[38;5;241;43m=\u001b[39;49m\u001b[43mparameters\u001b[49m\u001b[43m,\u001b[49m\n\u001b[1;32m    922\u001b[0m \u001b[43m        \u001b[49m\u001b[43msplit_progress\u001b[49m\u001b[38;5;241;43m=\u001b[39;49m\u001b[43m(\u001b[49m\u001b[43msplit_idx\u001b[49m\u001b[43m,\u001b[49m\u001b[43m \u001b[49m\u001b[43mn_splits\u001b[49m\u001b[43m)\u001b[49m\u001b[43m,\u001b[49m\n\u001b[1;32m    923\u001b[0m \u001b[43m        \u001b[49m\u001b[43mcandidate_progress\u001b[49m\u001b[38;5;241;43m=\u001b[39;49m\u001b[43m(\u001b[49m\u001b[43mcand_idx\u001b[49m\u001b[43m,\u001b[49m\u001b[43m \u001b[49m\u001b[43mn_candidates\u001b[49m\u001b[43m)\u001b[49m\u001b[43m,\u001b[49m\n\u001b[1;32m    924\u001b[0m \u001b[43m        \u001b[49m\u001b[38;5;241;43m*\u001b[39;49m\u001b[38;5;241;43m*\u001b[39;49m\u001b[43mfit_and_score_kwargs\u001b[49m\u001b[43m,\u001b[49m\n\u001b[1;32m    925\u001b[0m \u001b[43m    \u001b[49m\u001b[43m)\u001b[49m\n\u001b[1;32m    926\u001b[0m \u001b[43m    \u001b[49m\u001b[38;5;28;43;01mfor\u001b[39;49;00m\u001b[43m \u001b[49m\u001b[43m(\u001b[49m\u001b[43mcand_idx\u001b[49m\u001b[43m,\u001b[49m\u001b[43m \u001b[49m\u001b[43mparameters\u001b[49m\u001b[43m)\u001b[49m\u001b[43m,\u001b[49m\u001b[43m \u001b[49m\u001b[43m(\u001b[49m\u001b[43msplit_idx\u001b[49m\u001b[43m,\u001b[49m\u001b[43m \u001b[49m\u001b[43m(\u001b[49m\u001b[43mtrain\u001b[49m\u001b[43m,\u001b[49m\u001b[43m \u001b[49m\u001b[43mtest\u001b[49m\u001b[43m)\u001b[49m\u001b[43m)\u001b[49m\u001b[43m \u001b[49m\u001b[38;5;129;43;01min\u001b[39;49;00m\u001b[43m \u001b[49m\u001b[43mproduct\u001b[49m\u001b[43m(\u001b[49m\n\u001b[1;32m    927\u001b[0m \u001b[43m        \u001b[49m\u001b[38;5;28;43menumerate\u001b[39;49m\u001b[43m(\u001b[49m\u001b[43mcandidate_params\u001b[49m\u001b[43m)\u001b[49m\u001b[43m,\u001b[49m\n\u001b[1;32m    928\u001b[0m \u001b[43m        \u001b[49m\u001b[38;5;28;43menumerate\u001b[39;49m\u001b[43m(\u001b[49m\u001b[43mcv\u001b[49m\u001b[38;5;241;43m.\u001b[39;49m\u001b[43msplit\u001b[49m\u001b[43m(\u001b[49m\u001b[43mX\u001b[49m\u001b[43m,\u001b[49m\u001b[43m \u001b[49m\u001b[43my\u001b[49m\u001b[43m,\u001b[49m\u001b[43m \u001b[49m\u001b[38;5;241;43m*\u001b[39;49m\u001b[38;5;241;43m*\u001b[39;49m\u001b[43mrouted_params\u001b[49m\u001b[38;5;241;43m.\u001b[39;49m\u001b[43msplitter\u001b[49m\u001b[38;5;241;43m.\u001b[39;49m\u001b[43msplit\u001b[49m\u001b[43m)\u001b[49m\u001b[43m)\u001b[49m\u001b[43m,\u001b[49m\n\u001b[1;32m    929\u001b[0m \u001b[43m    \u001b[49m\u001b[43m)\u001b[49m\n\u001b[1;32m    930\u001b[0m \u001b[43m\u001b[49m\u001b[43m)\u001b[49m\n\u001b[1;32m    932\u001b[0m \u001b[38;5;28;01mif\u001b[39;00m \u001b[38;5;28mlen\u001b[39m(out) \u001b[38;5;241m<\u001b[39m \u001b[38;5;241m1\u001b[39m:\n\u001b[1;32m    933\u001b[0m     \u001b[38;5;28;01mraise\u001b[39;00m \u001b[38;5;167;01mValueError\u001b[39;00m(\n\u001b[1;32m    934\u001b[0m         \u001b[38;5;124m\"\u001b[39m\u001b[38;5;124mNo fits were performed. \u001b[39m\u001b[38;5;124m\"\u001b[39m\n\u001b[1;32m    935\u001b[0m         \u001b[38;5;124m\"\u001b[39m\u001b[38;5;124mWas the CV iterator empty? \u001b[39m\u001b[38;5;124m\"\u001b[39m\n\u001b[1;32m    936\u001b[0m         \u001b[38;5;124m\"\u001b[39m\u001b[38;5;124mWere there no candidates?\u001b[39m\u001b[38;5;124m\"\u001b[39m\n\u001b[1;32m    937\u001b[0m     )\n",
      "File \u001b[0;32m~/Documents/Unicamp/2024.1/IA/env/lib/python3.12/site-packages/sklearn/utils/parallel.py:67\u001b[0m, in \u001b[0;36mParallel.__call__\u001b[0;34m(self, iterable)\u001b[0m\n\u001b[1;32m     62\u001b[0m config \u001b[38;5;241m=\u001b[39m get_config()\n\u001b[1;32m     63\u001b[0m iterable_with_config \u001b[38;5;241m=\u001b[39m (\n\u001b[1;32m     64\u001b[0m     (_with_config(delayed_func, config), args, kwargs)\n\u001b[1;32m     65\u001b[0m     \u001b[38;5;28;01mfor\u001b[39;00m delayed_func, args, kwargs \u001b[38;5;129;01min\u001b[39;00m iterable\n\u001b[1;32m     66\u001b[0m )\n\u001b[0;32m---> 67\u001b[0m \u001b[38;5;28;01mreturn\u001b[39;00m \u001b[38;5;28;43msuper\u001b[39;49m\u001b[43m(\u001b[49m\u001b[43m)\u001b[49m\u001b[38;5;241;43m.\u001b[39;49m\u001b[38;5;21;43m__call__\u001b[39;49m\u001b[43m(\u001b[49m\u001b[43miterable_with_config\u001b[49m\u001b[43m)\u001b[49m\n",
      "File \u001b[0;32m~/Documents/Unicamp/2024.1/IA/env/lib/python3.12/site-packages/joblib/parallel.py:2007\u001b[0m, in \u001b[0;36mParallel.__call__\u001b[0;34m(self, iterable)\u001b[0m\n\u001b[1;32m   2001\u001b[0m \u001b[38;5;66;03m# The first item from the output is blank, but it makes the interpreter\u001b[39;00m\n\u001b[1;32m   2002\u001b[0m \u001b[38;5;66;03m# progress until it enters the Try/Except block of the generator and\u001b[39;00m\n\u001b[1;32m   2003\u001b[0m \u001b[38;5;66;03m# reaches the first `yield` statement. This starts the asynchronous\u001b[39;00m\n\u001b[1;32m   2004\u001b[0m \u001b[38;5;66;03m# dispatch of the tasks to the workers.\u001b[39;00m\n\u001b[1;32m   2005\u001b[0m \u001b[38;5;28mnext\u001b[39m(output)\n\u001b[0;32m-> 2007\u001b[0m \u001b[38;5;28;01mreturn\u001b[39;00m output \u001b[38;5;28;01mif\u001b[39;00m \u001b[38;5;28mself\u001b[39m\u001b[38;5;241m.\u001b[39mreturn_generator \u001b[38;5;28;01melse\u001b[39;00m \u001b[38;5;28;43mlist\u001b[39;49m\u001b[43m(\u001b[49m\u001b[43moutput\u001b[49m\u001b[43m)\u001b[49m\n",
      "File \u001b[0;32m~/Documents/Unicamp/2024.1/IA/env/lib/python3.12/site-packages/joblib/parallel.py:1650\u001b[0m, in \u001b[0;36mParallel._get_outputs\u001b[0;34m(self, iterator, pre_dispatch)\u001b[0m\n\u001b[1;32m   1647\u001b[0m     \u001b[38;5;28;01myield\u001b[39;00m\n\u001b[1;32m   1649\u001b[0m     \u001b[38;5;28;01mwith\u001b[39;00m \u001b[38;5;28mself\u001b[39m\u001b[38;5;241m.\u001b[39m_backend\u001b[38;5;241m.\u001b[39mretrieval_context():\n\u001b[0;32m-> 1650\u001b[0m         \u001b[38;5;28;01myield from\u001b[39;00m \u001b[38;5;28mself\u001b[39m\u001b[38;5;241m.\u001b[39m_retrieve()\n\u001b[1;32m   1652\u001b[0m \u001b[38;5;28;01mexcept\u001b[39;00m \u001b[38;5;167;01mGeneratorExit\u001b[39;00m:\n\u001b[1;32m   1653\u001b[0m     \u001b[38;5;66;03m# The generator has been garbage collected before being fully\u001b[39;00m\n\u001b[1;32m   1654\u001b[0m     \u001b[38;5;66;03m# consumed. This aborts the remaining tasks if possible and warn\u001b[39;00m\n\u001b[1;32m   1655\u001b[0m     \u001b[38;5;66;03m# the user if necessary.\u001b[39;00m\n\u001b[1;32m   1656\u001b[0m     \u001b[38;5;28mself\u001b[39m\u001b[38;5;241m.\u001b[39m_exception \u001b[38;5;241m=\u001b[39m \u001b[38;5;28;01mTrue\u001b[39;00m\n",
      "File \u001b[0;32m~/Documents/Unicamp/2024.1/IA/env/lib/python3.12/site-packages/joblib/parallel.py:1762\u001b[0m, in \u001b[0;36mParallel._retrieve\u001b[0;34m(self)\u001b[0m\n\u001b[1;32m   1757\u001b[0m \u001b[38;5;66;03m# If the next job is not ready for retrieval yet, we just wait for\u001b[39;00m\n\u001b[1;32m   1758\u001b[0m \u001b[38;5;66;03m# async callbacks to progress.\u001b[39;00m\n\u001b[1;32m   1759\u001b[0m \u001b[38;5;28;01mif\u001b[39;00m ((\u001b[38;5;28mlen\u001b[39m(\u001b[38;5;28mself\u001b[39m\u001b[38;5;241m.\u001b[39m_jobs) \u001b[38;5;241m==\u001b[39m \u001b[38;5;241m0\u001b[39m) \u001b[38;5;129;01mor\u001b[39;00m\n\u001b[1;32m   1760\u001b[0m     (\u001b[38;5;28mself\u001b[39m\u001b[38;5;241m.\u001b[39m_jobs[\u001b[38;5;241m0\u001b[39m]\u001b[38;5;241m.\u001b[39mget_status(\n\u001b[1;32m   1761\u001b[0m         timeout\u001b[38;5;241m=\u001b[39m\u001b[38;5;28mself\u001b[39m\u001b[38;5;241m.\u001b[39mtimeout) \u001b[38;5;241m==\u001b[39m TASK_PENDING)):\n\u001b[0;32m-> 1762\u001b[0m     \u001b[43mtime\u001b[49m\u001b[38;5;241;43m.\u001b[39;49m\u001b[43msleep\u001b[49m\u001b[43m(\u001b[49m\u001b[38;5;241;43m0.01\u001b[39;49m\u001b[43m)\u001b[49m\n\u001b[1;32m   1763\u001b[0m     \u001b[38;5;28;01mcontinue\u001b[39;00m\n\u001b[1;32m   1765\u001b[0m \u001b[38;5;66;03m# We need to be careful: the job list can be filling up as\u001b[39;00m\n\u001b[1;32m   1766\u001b[0m \u001b[38;5;66;03m# we empty it and Python list are not thread-safe by\u001b[39;00m\n\u001b[1;32m   1767\u001b[0m \u001b[38;5;66;03m# default hence the use of the lock\u001b[39;00m\n",
      "\u001b[0;31mKeyboardInterrupt\u001b[0m: "
     ]
    }
   ],
   "source": [
    "classifier = BaggingClassifier(estimator=LogisticRegression(class_weight=\"balanced\", max_iter=1000000, solver='saga', C=0.01, penalty='l2', n_jobs=12))\n",
    "gridsearch = GridSearchCV(classifier, parameters, cv=5, n_jobs=8, scoring=\"f1\", verbose=0)\n",
    "gridsearch.fit(X, Y)"
   ]
  },
  {
   "cell_type": "code",
   "execution_count": null,
   "id": "c43189d3-10f2-4124-9899-a38667163fd6",
   "metadata": {},
   "outputs": [],
   "source": [
    "pd.DataFrame(gridsearch.cv_results_).sort_values(by=[\"mean_test_score\"], ascending=False,).head()"
   ]
  },
  {
   "cell_type": "markdown",
   "id": "69d71ac4-433a-4df5-9e74-6e3f1d6eac10",
   "metadata": {},
   "source": [
    "Avaliando cutoff ótimo"
   ]
  },
  {
   "cell_type": "code",
   "execution_count": null,
   "id": "870c6ad6-f2e2-4078-ba09-5ac7f6d2e979",
   "metadata": {},
   "outputs": [],
   "source": [
    "from tqdm import tqdm\n",
    "from sklearn.metrics import f1_score, matthews_corrcoef, roc_curve, roc_auc_score, \\\n",
    "                            classification_report ,confusion_matrix,balanced_accuracy_score, recall_score, precision_score, precision_recall_curve"
   ]
  },
  {
   "cell_type": "code",
   "execution_count": null,
   "id": "2d2ab997-42e4-45cb-818f-8fc46b4a3a43",
   "metadata": {},
   "outputs": [],
   "source": [
    "def to_labels(pos_probs, threshold):\n",
    "\treturn (pos_probs >= threshold).astype('int')"
   ]
  },
  {
   "cell_type": "code",
   "execution_count": null,
   "id": "72048dff-5691-45f7-bd03-bc4d851eda57",
   "metadata": {},
   "outputs": [],
   "source": [
    "mccs, balan_accs, f1s, cms = [],[],[], []\n",
    "precisions, recalls = [],[]\n",
    "tprs, fprs, aucs = [], [], []\n",
    "mean_fpr = np.linspace(0, 1, 100)\n",
    "for i in tqdm(range(1,101)):\n",
    "    X_train, X_val, Y_train, Y_val = train_test_split(X, Y, test_size=0.3, random_state=i, stratify=Y)\n",
    "    base = LogisticRegression(class_weight=\"balanced\", max_iter=100000, solver='saga', C=0.01, penalty='l2', n_jobs=8)\n",
    "    clf = BaggingClassifier(estimator=base, )\n",
    "    clf.fit(X_train, Y_train)\n",
    "    y_pred_prob = clf.predict_proba(X_val)\n",
    "    y_pred = to_labels(y_pred_prob, 0.5)[:, 1]\n",
    "    mcc = matthews_corrcoef(Y_val, y_pred)\n",
    "    mccs.append(mcc)\n",
    "    balan_acc = balanced_accuracy_score(Y_val, y_pred)\n",
    "    balan_accs.append(balan_acc)\n",
    "    f1 = f1_score(Y_val, y_pred)\n",
    "    precisions.append(precision_score(Y_val, y_pred))\n",
    "    recalls.append(recall_score(Y_val, y_pred))\n",
    "    f1s.append(f1)\n",
    "    cms.append(confusion_matrix(Y_val, y_pred))\n",
    "    fpr, tpr, thresholds = precision_recall_curve(Y_val, y_pred_prob[:, 1], pos_label=1, drop_intermediate=True)\n",
    "    inter_tpr = np.interp(mean_fpr, fpr, tpr)\n",
    "    tprs.append(inter_tpr); #fprs.append(fpr)\n",
    "    aucs.append(roc_auc_score(Y_val, y_pred_prob[:, 1]))"
   ]
  },
  {
   "cell_type": "code",
   "execution_count": null,
   "id": "033acda9-acd8-41bc-8c11-cf8484bb3040",
   "metadata": {},
   "outputs": [],
   "source": [
    "print(f\"ACC Balanceada: {np.mean(balan_accs):.4f} +- {np.std(balan_accs):.4f}\")\n",
    "print(f\"ROC-AUC: {np.mean(aucs):.4f} +- {np.std(aucs):.4f}\")\n",
    "print(f\"MCC: {np.mean(mccs):.4f} +- {np.std(mccs):.4f}\")\n",
    "print(f\"F1: {np.mean(f1s):.4f} +- {np.std(f1s):.4f}\")\n",
    "print(f\"Precision: {np.mean(precisions):.4f} +- {np.std(precisions):.4f}\")\n",
    "print(f\"Recall: {np.mean(recalls):.4f} +- {np.std(recalls):.4f}\")"
   ]
  },
  {
   "cell_type": "code",
   "execution_count": null,
   "id": "51d9f44c-6355-488d-81e6-96e04c7d0ace",
   "metadata": {},
   "outputs": [],
   "source": [
    "cms = np.array(cms)\n",
    "\n",
    "sns.heatmap(cms.mean(axis=0), annot=True, fmt=\".2f\")"
   ]
  },
  {
   "cell_type": "code",
   "execution_count": null,
   "id": "97fb810f-9fc6-468b-a769-b82f5a123a55",
   "metadata": {},
   "outputs": [],
   "source": [
    "plt.figure()\n",
    "# plt.style.use('seaborn-whitegrid')\n",
    "\n",
    "lw = 2\n",
    "plt.figure(figsize=(10, 8), dpi=120)\n",
    "\n",
    "mean_tpr = np.mean(np.array(tprs), axis=0)\n",
    "mean_fpr = np.linspace(0, 1, 100)\n",
    "mean_auc = np.mean(aucs)\n",
    "std_auc = np.std(aucs)\n",
    "\n",
    "plt.plot(\n",
    "    mean_fpr,\n",
    "    mean_tpr,\n",
    "    color=\"b\",\n",
    "    label=r\"Mean ROC (AUC = %0.2f $\\pm$ %0.4f)\" % (mean_auc, std_auc),\n",
    "    lw=2,\n",
    "    alpha=0.8,\n",
    ")\n",
    "\n",
    "std_tpr = np.std(tprs, axis=0)\n",
    "tprs_upper = np.minimum(mean_tpr + std_tpr, 1)\n",
    "tprs_lower = np.maximum(mean_tpr - std_tpr, 0)\n",
    "\n",
    "plt.fill_between(\n",
    "    mean_fpr,\n",
    "    tprs_lower,\n",
    "    tprs_upper,\n",
    "    color=\"blue\",\n",
    "    alpha=0.2,\n",
    "    label=r\"$\\pm$ 1 std. dev.\",\n",
    ")\n",
    "\n",
    "std_tpr = np.std(tprs, axis=0)\n",
    "tprs_upper = np.minimum(mean_tpr + std_tpr*2, 1)\n",
    "tprs_lower = np.maximum(mean_tpr - std_tpr*2, 0)\n",
    "\n",
    "plt.fill_between(\n",
    "    mean_fpr,\n",
    "    tprs_lower,\n",
    "    tprs_upper,\n",
    "    color=\"green\",\n",
    "    alpha=0.2,\n",
    "    label=r\"$\\pm$ 2 std. dev.\",\n",
    ")\n",
    "\n",
    "plt.plot([0, 1], [0, 1], color=\"navy\", lw=lw, linestyle=\"--\")\n",
    "plt.xlim([-0.05, 1.05])\n",
    "plt.ylim([-0.05, 1.05])\n",
    "plt.xticks(fontsize=20)\n",
    "plt.yticks(fontsize=20)\n",
    "plt.xlabel(\"False Positive Rate\", fontsize=20)\n",
    "plt.ylabel(\"True Positive Rate\", fontsize=20)\n",
    "# plt.title(\"Curva ROC\", fontsize=20)\n",
    "plt.legend(loc=\"lower right\",prop={'size': 20})"
   ]
  },
  {
   "cell_type": "markdown",
   "id": "5cbfebb3-3bb6-497c-a2a3-9ead95f646af",
   "metadata": {},
   "source": [
    "Ajuste de cut-off point com F1-Score"
   ]
  },
  {
   "cell_type": "code",
   "execution_count": null,
   "id": "90b159e4-1870-4c2c-be21-0c1a4d6985f1",
   "metadata": {},
   "outputs": [],
   "source": [
    "thresholds = np.arange(0, 1, 0.01)\n",
    "melhores_thresholds = []\n",
    "mccs, balan_accs, f1s, cms = [],[],[], []\n",
    "tprs, fprs, aucs = [], [], []\n",
    "precisions, recalls = [], []\n",
    "mean_fpr = np.linspace(0, 1, 100)\n",
    "for i in tqdm(range(1,101)):\n",
    "    X_train, X_val, Y_train, Y_val = train_test_split(X, Y, test_size=0.3, random_state=i, stratify=Y)\n",
    "    clf = AdaBoostClassifier(algorithm=\"SAMME\", estimator=RandomForestClassifier(max_depth=1, class_weight=\"balanced_subsample\"),\n",
    "                            learning_rate=0.1, n_estimators=200)\n",
    "    clf.fit(X_train, Y_train)\n",
    "    # y_pred_proba_train = clf.predict_proba(X_train)\n",
    "    y_pred_prob = clf.predict_proba(X_val)\n",
    "    scores = [f1_score(Y_val, to_labels(y_pred_prob, t)[:, 1]) for t in thresholds]\n",
    "    melhor_treshold = np.array(scores).argmax()\n",
    "    melhores_thresholds.append(thresholds[melhor_treshold])\n",
    "    # y_pred_prob = clf.predict_proba(X_val)\n",
    "    y_pred = to_labels(y_pred_prob, thresholds[melhor_treshold])[:, 1]\n",
    "    mcc = matthews_corrcoef(Y_val, y_pred)\n",
    "    mccs.append(mcc)\n",
    "    balan_acc = balanced_accuracy_score(Y_val, y_pred)\n",
    "    balan_accs.append(balan_acc)\n",
    "    f1 = f1_score(Y_val, y_pred)\n",
    "    f1s.append(f1)\n",
    "    precisions.append(precision_score(Y_val, y_pred))\n",
    "    recalls.append(recall_score(Y_val, y_pred))\n",
    "    cms.append(confusion_matrix(Y_val, y_pred))\n",
    "    fpr, tpr, thresholds_ = roc_curve(Y_val, y_pred_prob[:, 1], pos_label=1, drop_intermediate=True)\n",
    "    inter_tpr = np.interp(mean_fpr, fpr, tpr)\n",
    "    tprs.append(inter_tpr); #fprs.append(fpr)\n",
    "    aucs.append(roc_auc_score(Y_val, y_pred_prob[:, 1]))"
   ]
  },
  {
   "cell_type": "code",
   "execution_count": null,
   "id": "c521a9cf-8825-4428-b46a-69f4b2b5a778",
   "metadata": {},
   "outputs": [],
   "source": [
    "print(f\"ACC Balanceada: {np.mean(balan_accs):.4f} +- {np.std(balan_accs):.4f}\")\n",
    "print(f\"ROC-AUC: {np.mean(aucs):.4f} +- {np.std(aucs):.4f}\")\n",
    "print(f\"MCC: {np.mean(mccs):.4f} +- {np.std(mccs):.4f}\")\n",
    "print(f\"F1: {np.mean(f1s):.4f} +- {np.std(f1s):.4f}\")\n",
    "print(f\"Precision: {np.mean(precisions):.4f} +- {np.std(precisions):.4f}\")\n",
    "print(f\"Recall: {np.mean(recalls):.4f} +- {np.std(recalls):.4f}\")"
   ]
  },
  {
   "cell_type": "code",
   "execution_count": null,
   "id": "577a7477-83c8-4921-a332-971ad61b5ac1",
   "metadata": {},
   "outputs": [],
   "source": [
    "print(f\"Média do ponto de corte ótimo: {np.mean(melhores_thresholds)}\")"
   ]
  },
  {
   "cell_type": "code",
   "execution_count": null,
   "id": "45d19390-ddff-4653-9c26-bde1cd87ab7b",
   "metadata": {},
   "outputs": [],
   "source": [
    "cms = np.array(cms)\n",
    "\n",
    "sns.heatmap(cms.mean(axis=0), annot=True, fmt=\".2f\")"
   ]
  },
  {
   "cell_type": "markdown",
   "id": "abc69795-6c24-49cd-92e5-6a271d72814e",
   "metadata": {},
   "source": [
    "Ajuste de cut-off point com acurácia balanceada"
   ]
  },
  {
   "cell_type": "code",
   "execution_count": null,
   "id": "d7ea723a-3c9a-4997-84a3-48e097deffbb",
   "metadata": {},
   "outputs": [],
   "source": [
    "thresholds = np.arange(0, 1, 0.01)\n",
    "melhores_thresholds = []\n",
    "mccs, balan_accs, f1s, cms = [],[],[], []\n",
    "tprs, fprs, aucs = [], [], []\n",
    "precisions, recalls = [], []\n",
    "mean_fpr = np.linspace(0, 1, 100)\n",
    "for i in tqdm(range(1,101)):\n",
    "    X_train, X_val, Y_train, Y_val = train_test_split(X, Y, test_size=0.3, random_state=i, stratify=Y)\n",
    "    clf = AdaBoostClassifier(algorithm=\"SAMME\", estimator=RandomForestClassifier(max_depth=1, class_weight=\"balanced_subsample\"),\n",
    "                            learning_rate=0.1, n_estimators=200)\n",
    "    clf.fit(X_train, Y_train)\n",
    "    # y_pred_proba_train = clf.predict_proba(X_train)\n",
    "    y_pred_prob = clf.predict_proba(X_val)\n",
    "    scores = [balanced_accuracy_score(Y_val, to_labels(y_pred_prob, t)[:, 1]) for t in thresholds]\n",
    "    melhor_treshold = np.array(scores).argmax()\n",
    "    melhores_thresholds.append(thresholds[melhor_treshold])\n",
    "    # y_pred_prob = clf.predict_proba(X_val)\n",
    "    y_pred = to_labels(y_pred_prob, thresholds[melhor_treshold])[:, 1]\n",
    "    mcc = matthews_corrcoef(Y_val, y_pred)\n",
    "    mccs.append(mcc)\n",
    "    balan_acc = balanced_accuracy_score(Y_val, y_pred)\n",
    "    balan_accs.append(balan_acc)\n",
    "    f1 = f1_score(Y_val, y_pred)\n",
    "    f1s.append(f1)\n",
    "    precisions.append(precision_score(Y_val, y_pred))\n",
    "    recalls.append(recall_score(Y_val, y_pred))\n",
    "    cms.append(confusion_matrix(Y_val, y_pred))\n",
    "    fpr, tpr, thresholds_ = roc_curve(Y_val, y_pred_prob[:, 1], pos_label=1, drop_intermediate=True)\n",
    "    inter_tpr = np.interp(mean_fpr, fpr, tpr)\n",
    "    tprs.append(inter_tpr); #fprs.append(fpr)\n",
    "    aucs.append(roc_auc_score(Y_val, y_pred_prob[:, 1]))"
   ]
  },
  {
   "cell_type": "code",
   "execution_count": null,
   "id": "533703a2-b38e-4864-a80c-15b2a1122663",
   "metadata": {},
   "outputs": [],
   "source": [
    "print(f\"ACC Balanceada: {np.mean(balan_accs):.4f} +- {np.std(balan_accs):.4f}\")\n",
    "print(f\"ROC-AUC: {np.mean(aucs):.4f} +- {np.std(aucs):.4f}\")\n",
    "print(f\"MCC: {np.mean(mccs):.4f} +- {np.std(mccs):.4f}\")\n",
    "print(f\"F1: {np.mean(f1s):.4f} +- {np.std(f1s):.4f}\")\n",
    "print(f\"Precision: {np.mean(precisions):.4f} +- {np.std(precisions):.4f}\")\n",
    "print(f\"Recall: {np.mean(recalls):.4f} +- {np.std(recalls):.4f}\")"
   ]
  },
  {
   "cell_type": "code",
   "execution_count": null,
   "id": "33668789-1eca-49be-a01f-e02113be987a",
   "metadata": {},
   "outputs": [],
   "source": [
    "print(f\"Média do ponto de corte ótimo: {np.mean(melhores_thresholds)}\")"
   ]
  },
  {
   "cell_type": "code",
   "execution_count": null,
   "id": "5bc0733d-47e0-4c8c-8e5a-ecd51af748b3",
   "metadata": {},
   "outputs": [],
   "source": [
    "cms = np.array(cms)\n",
    "\n",
    "sns.heatmap(cms.mean(axis=0), annot=True, fmt=\".2f\")"
   ]
  },
  {
   "cell_type": "markdown",
   "id": "4998639a-e25b-4d28-989f-a8ae206653e4",
   "metadata": {},
   "source": [
    "Ajuste de cut-off point com MCC"
   ]
  },
  {
   "cell_type": "code",
   "execution_count": null,
   "id": "2d3fe3dd-5429-489a-96b6-560ab9cecf81",
   "metadata": {},
   "outputs": [],
   "source": [
    "thresholds = np.arange(0, 1, 0.01)\n",
    "melhores_thresholds = []\n",
    "mccs, balan_accs, f1s, cms = [],[],[], []\n",
    "tprs, fprs, aucs = [], [], []\n",
    "precisions, recalls = [], []\n",
    "mean_fpr = np.linspace(0, 1, 100)\n",
    "for i in tqdm(range(1,101)):\n",
    "    X_train, X_val, Y_train, Y_val = train_test_split(X, Y, test_size=0.3, random_state=i, stratify=Y)\n",
    "    clf = AdaBoostClassifier(algorithm=\"SAMME\", estimator=RandomForestClassifier(max_depth=1, class_weight=\"balanced_subsample\"),\n",
    "                            learning_rate=0.1, n_estimators=200)\n",
    "    clf.fit(X_train, Y_train)\n",
    "    # y_pred_proba_train = clf.predict_proba(X_train)\n",
    "    y_pred_prob = clf.predict_proba(X_val)\n",
    "    scores = [matthews_corrcoef(Y_val, to_labels(y_pred_prob, t)[:, 1]) for t in thresholds]\n",
    "    melhor_treshold = np.array(scores).argmax()\n",
    "    melhores_thresholds.append(thresholds[melhor_treshold])\n",
    "    # y_pred_prob = clf.predict_proba(X_val)\n",
    "    y_pred = to_labels(y_pred_prob, thresholds[melhor_treshold])[:, 1]\n",
    "    mcc = matthews_corrcoef(Y_val, y_pred)\n",
    "    mccs.append(mcc)\n",
    "    balan_acc = balanced_accuracy_score(Y_val, y_pred)\n",
    "    balan_accs.append(balan_acc)\n",
    "    f1 = f1_score(Y_val, y_pred)\n",
    "    f1s.append(f1)\n",
    "    precisions.append(precision_score(Y_val, y_pred))\n",
    "    recalls.append(recall_score(Y_val, y_pred))\n",
    "    cms.append(confusion_matrix(Y_val, y_pred))\n",
    "    fpr, tpr, thresholds_ = roc_curve(Y_val, y_pred_prob[:, 1], pos_label=1, drop_intermediate=True)\n",
    "    inter_tpr = np.interp(mean_fpr, fpr, tpr)\n",
    "    tprs.append(inter_tpr); #fprs.append(fpr)\n",
    "    aucs.append(roc_auc_score(Y_val, y_pred_prob[:, 1]))"
   ]
  },
  {
   "cell_type": "code",
   "execution_count": null,
   "id": "67343387-c393-4f48-96d2-15c2dfb3b690",
   "metadata": {},
   "outputs": [],
   "source": [
    "print(f\"ACC Balanceada: {np.mean(balan_accs):.4f} +- {np.std(balan_accs):.4f}\")\n",
    "print(f\"ROC-AUC: {np.mean(aucs):.4f} +- {np.std(aucs):.4f}\")\n",
    "print(f\"MCC: {np.mean(mccs):.4f} +- {np.std(mccs):.4f}\")\n",
    "print(f\"F1: {np.mean(f1s):.4f} +- {np.std(f1s):.4f}\")\n",
    "print(f\"Precision: {np.mean(precisions):.4f} +- {np.std(precisions):.4f}\")\n",
    "print(f\"Recall: {np.mean(recalls):.4f} +- {np.std(recalls):.4f}\")"
   ]
  },
  {
   "cell_type": "code",
   "execution_count": null,
   "id": "242745b1-70a2-4e68-b695-cf81eb3c6a6e",
   "metadata": {},
   "outputs": [],
   "source": [
    "print(f\"Média do ponto de corte ótimo: {np.mean(melhores_thresholds)}\")"
   ]
  },
  {
   "cell_type": "code",
   "execution_count": null,
   "id": "03de3c27-962f-4247-ab93-d5bfb2bfa138",
   "metadata": {},
   "outputs": [],
   "source": [
    "cms = np.array(cms)\n",
    "\n",
    "sns.heatmap(cms.mean(axis=0), annot=True, fmt=\".2f\")"
   ]
  }
 ],
 "metadata": {
  "kernelspec": {
   "display_name": "Python 3 (ipykernel)",
   "language": "python",
   "name": "python3"
  },
  "language_info": {
   "codemirror_mode": {
    "name": "ipython",
    "version": 3
   },
   "file_extension": ".py",
   "mimetype": "text/x-python",
   "name": "python",
   "nbconvert_exporter": "python",
   "pygments_lexer": "ipython3",
   "version": "3.12.3"
  }
 },
 "nbformat": 4,
 "nbformat_minor": 5
}
