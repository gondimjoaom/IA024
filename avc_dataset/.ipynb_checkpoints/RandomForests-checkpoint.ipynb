{
 "cells": [
  {
   "cell_type": "code",
   "execution_count": 1,
   "id": "de514e8e-28e3-42ba-87ac-abeeeb38e180",
   "metadata": {},
   "outputs": [],
   "source": [
    "import pandas as pd\n",
    "import numpy as np\n",
    "import seaborn as sns\n",
    "import matplotlib.pyplot as plt"
   ]
  },
  {
   "cell_type": "code",
   "execution_count": 2,
   "id": "cb6866a3-5f34-4c68-8a70-aa564097d2c7",
   "metadata": {},
   "outputs": [
    {
     "data": {
      "text/html": [
       "<div>\n",
       "<style scoped>\n",
       "    .dataframe tbody tr th:only-of-type {\n",
       "        vertical-align: middle;\n",
       "    }\n",
       "\n",
       "    .dataframe tbody tr th {\n",
       "        vertical-align: top;\n",
       "    }\n",
       "\n",
       "    .dataframe thead th {\n",
       "        text-align: right;\n",
       "    }\n",
       "</style>\n",
       "<table border=\"1\" class=\"dataframe\">\n",
       "  <thead>\n",
       "    <tr style=\"text-align: right;\">\n",
       "      <th></th>\n",
       "      <th>Diabetes_binary</th>\n",
       "      <th>HighBP</th>\n",
       "      <th>HighChol</th>\n",
       "      <th>CholCheck</th>\n",
       "      <th>BMI</th>\n",
       "      <th>Smoker</th>\n",
       "      <th>Stroke</th>\n",
       "      <th>HeartDiseaseorAttack</th>\n",
       "      <th>PhysActivity</th>\n",
       "      <th>Fruits</th>\n",
       "      <th>...</th>\n",
       "      <th>AnyHealthcare</th>\n",
       "      <th>NoDocbcCost</th>\n",
       "      <th>GenHlth</th>\n",
       "      <th>MentHlth</th>\n",
       "      <th>PhysHlth</th>\n",
       "      <th>DiffWalk</th>\n",
       "      <th>Sex</th>\n",
       "      <th>Age</th>\n",
       "      <th>Education</th>\n",
       "      <th>Income</th>\n",
       "    </tr>\n",
       "  </thead>\n",
       "  <tbody>\n",
       "    <tr>\n",
       "      <th>0</th>\n",
       "      <td>0.0</td>\n",
       "      <td>1.0</td>\n",
       "      <td>1.0</td>\n",
       "      <td>1.0</td>\n",
       "      <td>40.0</td>\n",
       "      <td>1.0</td>\n",
       "      <td>0.0</td>\n",
       "      <td>0.0</td>\n",
       "      <td>0.0</td>\n",
       "      <td>0.0</td>\n",
       "      <td>...</td>\n",
       "      <td>1.0</td>\n",
       "      <td>0.0</td>\n",
       "      <td>5.0</td>\n",
       "      <td>18.0</td>\n",
       "      <td>15.0</td>\n",
       "      <td>1.0</td>\n",
       "      <td>0.0</td>\n",
       "      <td>9.0</td>\n",
       "      <td>4.0</td>\n",
       "      <td>3.0</td>\n",
       "    </tr>\n",
       "    <tr>\n",
       "      <th>1</th>\n",
       "      <td>0.0</td>\n",
       "      <td>0.0</td>\n",
       "      <td>0.0</td>\n",
       "      <td>0.0</td>\n",
       "      <td>25.0</td>\n",
       "      <td>1.0</td>\n",
       "      <td>0.0</td>\n",
       "      <td>0.0</td>\n",
       "      <td>1.0</td>\n",
       "      <td>0.0</td>\n",
       "      <td>...</td>\n",
       "      <td>0.0</td>\n",
       "      <td>1.0</td>\n",
       "      <td>3.0</td>\n",
       "      <td>0.0</td>\n",
       "      <td>0.0</td>\n",
       "      <td>0.0</td>\n",
       "      <td>0.0</td>\n",
       "      <td>7.0</td>\n",
       "      <td>6.0</td>\n",
       "      <td>1.0</td>\n",
       "    </tr>\n",
       "    <tr>\n",
       "      <th>2</th>\n",
       "      <td>0.0</td>\n",
       "      <td>1.0</td>\n",
       "      <td>1.0</td>\n",
       "      <td>1.0</td>\n",
       "      <td>28.0</td>\n",
       "      <td>0.0</td>\n",
       "      <td>0.0</td>\n",
       "      <td>0.0</td>\n",
       "      <td>0.0</td>\n",
       "      <td>1.0</td>\n",
       "      <td>...</td>\n",
       "      <td>1.0</td>\n",
       "      <td>1.0</td>\n",
       "      <td>5.0</td>\n",
       "      <td>30.0</td>\n",
       "      <td>30.0</td>\n",
       "      <td>1.0</td>\n",
       "      <td>0.0</td>\n",
       "      <td>9.0</td>\n",
       "      <td>4.0</td>\n",
       "      <td>8.0</td>\n",
       "    </tr>\n",
       "    <tr>\n",
       "      <th>3</th>\n",
       "      <td>0.0</td>\n",
       "      <td>1.0</td>\n",
       "      <td>0.0</td>\n",
       "      <td>1.0</td>\n",
       "      <td>27.0</td>\n",
       "      <td>0.0</td>\n",
       "      <td>0.0</td>\n",
       "      <td>0.0</td>\n",
       "      <td>1.0</td>\n",
       "      <td>1.0</td>\n",
       "      <td>...</td>\n",
       "      <td>1.0</td>\n",
       "      <td>0.0</td>\n",
       "      <td>2.0</td>\n",
       "      <td>0.0</td>\n",
       "      <td>0.0</td>\n",
       "      <td>0.0</td>\n",
       "      <td>0.0</td>\n",
       "      <td>11.0</td>\n",
       "      <td>3.0</td>\n",
       "      <td>6.0</td>\n",
       "    </tr>\n",
       "    <tr>\n",
       "      <th>4</th>\n",
       "      <td>0.0</td>\n",
       "      <td>1.0</td>\n",
       "      <td>1.0</td>\n",
       "      <td>1.0</td>\n",
       "      <td>24.0</td>\n",
       "      <td>0.0</td>\n",
       "      <td>0.0</td>\n",
       "      <td>0.0</td>\n",
       "      <td>1.0</td>\n",
       "      <td>1.0</td>\n",
       "      <td>...</td>\n",
       "      <td>1.0</td>\n",
       "      <td>0.0</td>\n",
       "      <td>2.0</td>\n",
       "      <td>3.0</td>\n",
       "      <td>0.0</td>\n",
       "      <td>0.0</td>\n",
       "      <td>0.0</td>\n",
       "      <td>11.0</td>\n",
       "      <td>5.0</td>\n",
       "      <td>4.0</td>\n",
       "    </tr>\n",
       "  </tbody>\n",
       "</table>\n",
       "<p>5 rows × 22 columns</p>\n",
       "</div>"
      ],
      "text/plain": [
       "   Diabetes_binary  HighBP  HighChol  CholCheck   BMI  Smoker  Stroke  \\\n",
       "0              0.0     1.0       1.0        1.0  40.0     1.0     0.0   \n",
       "1              0.0     0.0       0.0        0.0  25.0     1.0     0.0   \n",
       "2              0.0     1.0       1.0        1.0  28.0     0.0     0.0   \n",
       "3              0.0     1.0       0.0        1.0  27.0     0.0     0.0   \n",
       "4              0.0     1.0       1.0        1.0  24.0     0.0     0.0   \n",
       "\n",
       "   HeartDiseaseorAttack  PhysActivity  Fruits  ...  AnyHealthcare  \\\n",
       "0                   0.0           0.0     0.0  ...            1.0   \n",
       "1                   0.0           1.0     0.0  ...            0.0   \n",
       "2                   0.0           0.0     1.0  ...            1.0   \n",
       "3                   0.0           1.0     1.0  ...            1.0   \n",
       "4                   0.0           1.0     1.0  ...            1.0   \n",
       "\n",
       "   NoDocbcCost  GenHlth  MentHlth  PhysHlth  DiffWalk  Sex   Age  Education  \\\n",
       "0          0.0      5.0      18.0      15.0       1.0  0.0   9.0        4.0   \n",
       "1          1.0      3.0       0.0       0.0       0.0  0.0   7.0        6.0   \n",
       "2          1.0      5.0      30.0      30.0       1.0  0.0   9.0        4.0   \n",
       "3          0.0      2.0       0.0       0.0       0.0  0.0  11.0        3.0   \n",
       "4          0.0      2.0       3.0       0.0       0.0  0.0  11.0        5.0   \n",
       "\n",
       "   Income  \n",
       "0     3.0  \n",
       "1     1.0  \n",
       "2     8.0  \n",
       "3     6.0  \n",
       "4     4.0  \n",
       "\n",
       "[5 rows x 22 columns]"
      ]
     },
     "execution_count": 2,
     "metadata": {},
     "output_type": "execute_result"
    }
   ],
   "source": [
    "df = pd.read_csv(\"diabetes_binary_health_indicators_BRFSS2015.csv\")\n",
    "df.head()"
   ]
  },
  {
   "cell_type": "code",
   "execution_count": 3,
   "id": "75c1e433-e063-4bf8-b2f5-9b513992db46",
   "metadata": {},
   "outputs": [],
   "source": [
    "X_all = df[[feat for feat in df.columns if feat != \"Diabetes_binary\"]]\n",
    "Y_all = df[\"Diabetes_binary\"]"
   ]
  },
  {
   "cell_type": "code",
   "execution_count": 4,
   "id": "2b0d0ca4-d722-4d56-a59b-b39bea4f8805",
   "metadata": {},
   "outputs": [
    {
     "data": {
      "text/plain": [
       "[Text(0, 0, '218334'), Text(0, 0, '35346')]"
      ]
     },
     "execution_count": 4,
     "metadata": {},
     "output_type": "execute_result"
    },
    {
     "data": {
      "image/png": "[encoded data removed]",
      "text/plain": [
       "<Figure size 640x480 with 1 Axes>"
      ]
     },
     "metadata": {},
     "output_type": "display_data"
    }
   ],
   "source": [
    "ax=sns.countplot(data=df, x=\"Diabetes_binary\")\n",
    "ax.bar_label(ax.containers[0])"
   ]
  },
  {
   "cell_type": "code",
   "execution_count": 4,
   "id": "88171924-2483-4cef-a2a8-743d794d677a",
   "metadata": {},
   "outputs": [],
   "source": [
    "from sklearn.model_selection import train_test_split"
   ]
  },
  {
   "cell_type": "code",
   "execution_count": 5,
   "id": "bb7afb91-5cca-4c4f-8ef9-855ab83079f7",
   "metadata": {},
   "outputs": [],
   "source": [
    "# Dados reservados para validação final do modelo\n",
    "X, X_test, Y, y_test = train_test_split(X_all, Y_all, test_size=0.1, random_state=416, stratify=Y_all)"
   ]
  },
  {
   "cell_type": "code",
   "execution_count": 7,
   "id": "1311c7a9-4218-4fa2-9c85-8a9a5073ebeb",
   "metadata": {},
   "outputs": [
    {
     "data": {
      "text/plain": [
       "[Text(0, 0, '196501'), Text(0, 0, '31811')]"
      ]
     },
     "execution_count": 7,
     "metadata": {},
     "output_type": "execute_result"
    },
    {
     "data": {
      "image/png": "[encoded data removed]",
      "text/plain": [
       "<Figure size 640x480 with 1 Axes>"
      ]
     },
     "metadata": {},
     "output_type": "display_data"
    }
   ],
   "source": [
    "ax=sns.countplot(data=df.iloc[Y.index], x=\"Diabetes_binary\")\n",
    "ax.bar_label(ax.containers[0])"
   ]
  },
  {
   "cell_type": "code",
   "execution_count": 6,
   "id": "f8f4501c-e4cd-4c9f-9b60-7a46f2b69bae",
   "metadata": {},
   "outputs": [],
   "source": [
    "from sklearn.ensemble import RandomForestClassifier\n",
    "from sklearn.model_selection import GridSearchCV\n"
   ]
  },
  {
   "cell_type": "markdown",
   "id": "87c23956-a892-41a4-842b-fc57e36aba8d",
   "metadata": {},
   "source": [
    "Fazendo testes de mudanças de parâmetros com auxílio de GridSearch"
   ]
  },
  {
   "cell_type": "code",
   "execution_count": 7,
   "id": "d6cae762-089c-4c0c-b4da-2e67bd6303c4",
   "metadata": {},
   "outputs": [],
   "source": [
    "parameters = {'n_estimators':(50, 100, 200), 'criterion': (\"gini\", 'entropy', \"log_loss\"), \"max_depth\": (5,10,20,None), \"max_features\": (\"sqrt\", \"log2\")}"
   ]
  },
  {
   "cell_type": "code",
   "execution_count": 10,
   "id": "8d56d3cf-68df-4775-8b59-0e26bee29bb6",
   "metadata": {},
   "outputs": [
    {
     "name": "stderr",
     "output_type": "stream",
     "text": [
      "/home/jmg/Documents/Unicamp/2024.1/IA/env/lib/python3.12/site-packages/joblib/externals/loky/process_executor.py:752: UserWarning: A worker stopped while some jobs were given to the executor. This can be caused by a too short worker timeout or by a memory leak.\n",
      "  warnings.warn(\n"
     ]
    },
    {
     "data": {
      "text/html": [
       "<style>#sk-container-id-1 {\n",
       "  /* Definition of color scheme common for light and dark mode */\n",
       "  --sklearn-color-text: black;\n",
       "  --sklearn-color-line: gray;\n",
       "  /* Definition of color scheme for unfitted estimators */\n",
       "  --sklearn-color-unfitted-level-0: #fff5e6;\n",
       "  --sklearn-color-unfitted-level-1: #f6e4d2;\n",
       "  --sklearn-color-unfitted-level-2: #ffe0b3;\n",
       "  --sklearn-color-unfitted-level-3: chocolate;\n",
       "  /* Definition of color scheme for fitted estimators */\n",
       "  --sklearn-color-fitted-level-0: #f0f8ff;\n",
       "  --sklearn-color-fitted-level-1: #d4ebff;\n",
       "  --sklearn-color-fitted-level-2: #b3dbfd;\n",
       "  --sklearn-color-fitted-level-3: cornflowerblue;\n",
       "\n",
       "  /* Specific color for light theme */\n",
       "  --sklearn-color-text-on-default-background: var(--sg-text-color, var(--theme-code-foreground, var(--jp-content-font-color1, black)));\n",
       "  --sklearn-color-background: var(--sg-background-color, var(--theme-background, var(--jp-layout-color0, white)));\n",
       "  --sklearn-color-border-box: var(--sg-text-color, var(--theme-code-foreground, var(--jp-content-font-color1, black)));\n",
       "  --sklearn-color-icon: #696969;\n",
       "\n",
       "  @media (prefers-color-scheme: dark) {\n",
       "    /* Redefinition of color scheme for dark theme */\n",
       "    --sklearn-color-text-on-default-background: var(--sg-text-color, var(--theme-code-foreground, var(--jp-content-font-color1, white)));\n",
       "    --sklearn-color-background: var(--sg-background-color, var(--theme-background, var(--jp-layout-color0, #111)));\n",
       "    --sklearn-color-border-box: var(--sg-text-color, var(--theme-code-foreground, var(--jp-content-font-color1, white)));\n",
       "    --sklearn-color-icon: #878787;\n",
       "  }\n",
       "}\n",
       "\n",
       "#sk-container-id-1 {\n",
       "  color: var(--sklearn-color-text);\n",
       "}\n",
       "\n",
       "#sk-container-id-1 pre {\n",
       "  padding: 0;\n",
       "}\n",
       "\n",
       "#sk-container-id-1 input.sk-hidden--visually {\n",
       "  border: 0;\n",
       "  clip: rect(1px 1px 1px 1px);\n",
       "  clip: rect(1px, 1px, 1px, 1px);\n",
       "  height: 1px;\n",
       "  margin: -1px;\n",
       "  overflow: hidden;\n",
       "  padding: 0;\n",
       "  position: absolute;\n",
       "  width: 1px;\n",
       "}\n",
       "\n",
       "#sk-container-id-1 div.sk-dashed-wrapped {\n",
       "  border: 1px dashed var(--sklearn-color-line);\n",
       "  margin: 0 0.4em 0.5em 0.4em;\n",
       "  box-sizing: border-box;\n",
       "  padding-bottom: 0.4em;\n",
       "  background-color: var(--sklearn-color-background);\n",
       "}\n",
       "\n",
       "#sk-container-id-1 div.sk-container {\n",
       "  /* jupyter's `normalize.less` sets `[hidden] { display: none; }`\n",
       "     but bootstrap.min.css set `[hidden] { display: none !important; }`\n",
       "     so we also need the `!important` here to be able to override the\n",
       "     default hidden behavior on the sphinx rendered scikit-learn.org.\n",
       "     See: https://github.com/scikit-learn/scikit-learn/issues/21755 */\n",
       "  display: inline-block !important;\n",
       "  position: relative;\n",
       "}\n",
       "\n",
       "#sk-container-id-1 div.sk-text-repr-fallback {\n",
       "  display: none;\n",
       "}\n",
       "\n",
       "div.sk-parallel-item,\n",
       "div.sk-serial,\n",
       "div.sk-item {\n",
       "  /* draw centered vertical line to link estimators */\n",
       "  background-image: linear-gradient(var(--sklearn-color-text-on-default-background), var(--sklearn-color-text-on-default-background));\n",
       "  background-size: 2px 100%;\n",
       "  background-repeat: no-repeat;\n",
       "  background-position: center center;\n",
       "}\n",
       "\n",
       "/* Parallel-specific style estimator block */\n",
       "\n",
       "#sk-container-id-1 div.sk-parallel-item::after {\n",
       "  content: \"\";\n",
       "  width: 100%;\n",
       "  border-bottom: 2px solid var(--sklearn-color-text-on-default-background);\n",
       "  flex-grow: 1;\n",
       "}\n",
       "\n",
       "#sk-container-id-1 div.sk-parallel {\n",
       "  display: flex;\n",
       "  align-items: stretch;\n",
       "  justify-content: center;\n",
       "  background-color: var(--sklearn-color-background);\n",
       "  position: relative;\n",
       "}\n",
       "\n",
       "#sk-container-id-1 div.sk-parallel-item {\n",
       "  display: flex;\n",
       "  flex-direction: column;\n",
       "}\n",
       "\n",
       "#sk-container-id-1 div.sk-parallel-item:first-child::after {\n",
       "  align-self: flex-end;\n",
       "  width: 50%;\n",
       "}\n",
       "\n",
       "#sk-container-id-1 div.sk-parallel-item:last-child::after {\n",
       "  align-self: flex-start;\n",
       "  width: 50%;\n",
       "}\n",
       "\n",
       "#sk-container-id-1 div.sk-parallel-item:only-child::after {\n",
       "  width: 0;\n",
       "}\n",
       "\n",
       "/* Serial-specific style estimator block */\n",
       "\n",
       "#sk-container-id-1 div.sk-serial {\n",
       "  display: flex;\n",
       "  flex-direction: column;\n",
       "  align-items: center;\n",
       "  background-color: var(--sklearn-color-background);\n",
       "  padding-right: 1em;\n",
       "  padding-left: 1em;\n",
       "}\n",
       "\n",
       "\n",
       "/* Toggleable style: style used for estimator/Pipeline/ColumnTransformer box that is\n",
       "clickable and can be expanded/collapsed.\n",
       "- Pipeline and ColumnTransformer use this feature and define the default style\n",
       "- Estimators will overwrite some part of the style using the `sk-estimator` class\n",
       "*/\n",
       "\n",
       "/* Pipeline and ColumnTransformer style (default) */\n",
       "\n",
       "#sk-container-id-1 div.sk-toggleable {\n",
       "  /* Default theme specific background. It is overwritten whether we have a\n",
       "  specific estimator or a Pipeline/ColumnTransformer */\n",
       "  background-color: var(--sklearn-color-background);\n",
       "}\n",
       "\n",
       "/* Toggleable label */\n",
       "#sk-container-id-1 label.sk-toggleable__label {\n",
       "  cursor: pointer;\n",
       "  display: block;\n",
       "  width: 100%;\n",
       "  margin-bottom: 0;\n",
       "  padding: 0.5em;\n",
       "  box-sizing: border-box;\n",
       "  text-align: center;\n",
       "}\n",
       "\n",
       "#sk-container-id-1 label.sk-toggleable__label-arrow:before {\n",
       "  /* Arrow on the left of the label */\n",
       "  content: \"▸\";\n",
       "  float: left;\n",
       "  margin-right: 0.25em;\n",
       "  color: var(--sklearn-color-icon);\n",
       "}\n",
       "\n",
       "#sk-container-id-1 label.sk-toggleable__label-arrow:hover:before {\n",
       "  color: var(--sklearn-color-text);\n",
       "}\n",
       "\n",
       "/* Toggleable content - dropdown */\n",
       "\n",
       "#sk-container-id-1 div.sk-toggleable__content {\n",
       "  max-height: 0;\n",
       "  max-width: 0;\n",
       "  overflow: hidden;\n",
       "  text-align: left;\n",
       "  /* unfitted */\n",
       "  background-color: var(--sklearn-color-unfitted-level-0);\n",
       "}\n",
       "\n",
       "#sk-container-id-1 div.sk-toggleable__content.fitted {\n",
       "  /* fitted */\n",
       "  background-color: var(--sklearn-color-fitted-level-0);\n",
       "}\n",
       "\n",
       "#sk-container-id-1 div.sk-toggleable__content pre {\n",
       "  margin: 0.2em;\n",
       "  border-radius: 0.25em;\n",
       "  color: var(--sklearn-color-text);\n",
       "  /* unfitted */\n",
       "  background-color: var(--sklearn-color-unfitted-level-0);\n",
       "}\n",
       "\n",
       "#sk-container-id-1 div.sk-toggleable__content.fitted pre {\n",
       "  /* unfitted */\n",
       "  background-color: var(--sklearn-color-fitted-level-0);\n",
       "}\n",
       "\n",
       "#sk-container-id-1 input.sk-toggleable__control:checked~div.sk-toggleable__content {\n",
       "  /* Expand drop-down */\n",
       "  max-height: 200px;\n",
       "  max-width: 100%;\n",
       "  overflow: auto;\n",
       "}\n",
       "\n",
       "#sk-container-id-1 input.sk-toggleable__control:checked~label.sk-toggleable__label-arrow:before {\n",
       "  content: \"▾\";\n",
       "}\n",
       "\n",
       "/* Pipeline/ColumnTransformer-specific style */\n",
       "\n",
       "#sk-container-id-1 div.sk-label input.sk-toggleable__control:checked~label.sk-toggleable__label {\n",
       "  color: var(--sklearn-color-text);\n",
       "  background-color: var(--sklearn-color-unfitted-level-2);\n",
       "}\n",
       "\n",
       "#sk-container-id-1 div.sk-label.fitted input.sk-toggleable__control:checked~label.sk-toggleable__label {\n",
       "  background-color: var(--sklearn-color-fitted-level-2);\n",
       "}\n",
       "\n",
       "/* Estimator-specific style */\n",
       "\n",
       "/* Colorize estimator box */\n",
       "#sk-container-id-1 div.sk-estimator input.sk-toggleable__control:checked~label.sk-toggleable__label {\n",
       "  /* unfitted */\n",
       "  background-color: var(--sklearn-color-unfitted-level-2);\n",
       "}\n",
       "\n",
       "#sk-container-id-1 div.sk-estimator.fitted input.sk-toggleable__control:checked~label.sk-toggleable__label {\n",
       "  /* fitted */\n",
       "  background-color: var(--sklearn-color-fitted-level-2);\n",
       "}\n",
       "\n",
       "#sk-container-id-1 div.sk-label label.sk-toggleable__label,\n",
       "#sk-container-id-1 div.sk-label label {\n",
       "  /* The background is the default theme color */\n",
       "  color: var(--sklearn-color-text-on-default-background);\n",
       "}\n",
       "\n",
       "/* On hover, darken the color of the background */\n",
       "#sk-container-id-1 div.sk-label:hover label.sk-toggleable__label {\n",
       "  color: var(--sklearn-color-text);\n",
       "  background-color: var(--sklearn-color-unfitted-level-2);\n",
       "}\n",
       "\n",
       "/* Label box, darken color on hover, fitted */\n",
       "#sk-container-id-1 div.sk-label.fitted:hover label.sk-toggleable__label.fitted {\n",
       "  color: var(--sklearn-color-text);\n",
       "  background-color: var(--sklearn-color-fitted-level-2);\n",
       "}\n",
       "\n",
       "/* Estimator label */\n",
       "\n",
       "#sk-container-id-1 div.sk-label label {\n",
       "  font-family: monospace;\n",
       "  font-weight: bold;\n",
       "  display: inline-block;\n",
       "  line-height: 1.2em;\n",
       "}\n",
       "\n",
       "#sk-container-id-1 div.sk-label-container {\n",
       "  text-align: center;\n",
       "}\n",
       "\n",
       "/* Estimator-specific */\n",
       "#sk-container-id-1 div.sk-estimator {\n",
       "  font-family: monospace;\n",
       "  border: 1px dotted var(--sklearn-color-border-box);\n",
       "  border-radius: 0.25em;\n",
       "  box-sizing: border-box;\n",
       "  margin-bottom: 0.5em;\n",
       "  /* unfitted */\n",
       "  background-color: var(--sklearn-color-unfitted-level-0);\n",
       "}\n",
       "\n",
       "#sk-container-id-1 div.sk-estimator.fitted {\n",
       "  /* fitted */\n",
       "  background-color: var(--sklearn-color-fitted-level-0);\n",
       "}\n",
       "\n",
       "/* on hover */\n",
       "#sk-container-id-1 div.sk-estimator:hover {\n",
       "  /* unfitted */\n",
       "  background-color: var(--sklearn-color-unfitted-level-2);\n",
       "}\n",
       "\n",
       "#sk-container-id-1 div.sk-estimator.fitted:hover {\n",
       "  /* fitted */\n",
       "  background-color: var(--sklearn-color-fitted-level-2);\n",
       "}\n",
       "\n",
       "/* Specification for estimator info (e.g. \"i\" and \"?\") */\n",
       "\n",
       "/* Common style for \"i\" and \"?\" */\n",
       "\n",
       ".sk-estimator-doc-link,\n",
       "a:link.sk-estimator-doc-link,\n",
       "a:visited.sk-estimator-doc-link {\n",
       "  float: right;\n",
       "  font-size: smaller;\n",
       "  line-height: 1em;\n",
       "  font-family: monospace;\n",
       "  background-color: var(--sklearn-color-background);\n",
       "  border-radius: 1em;\n",
       "  height: 1em;\n",
       "  width: 1em;\n",
       "  text-decoration: none !important;\n",
       "  margin-left: 1ex;\n",
       "  /* unfitted */\n",
       "  border: var(--sklearn-color-unfitted-level-1) 1pt solid;\n",
       "  color: var(--sklearn-color-unfitted-level-1);\n",
       "}\n",
       "\n",
       ".sk-estimator-doc-link.fitted,\n",
       "a:link.sk-estimator-doc-link.fitted,\n",
       "a:visited.sk-estimator-doc-link.fitted {\n",
       "  /* fitted */\n",
       "  border: var(--sklearn-color-fitted-level-1) 1pt solid;\n",
       "  color: var(--sklearn-color-fitted-level-1);\n",
       "}\n",
       "\n",
       "/* On hover */\n",
       "div.sk-estimator:hover .sk-estimator-doc-link:hover,\n",
       ".sk-estimator-doc-link:hover,\n",
       "div.sk-label-container:hover .sk-estimator-doc-link:hover,\n",
       ".sk-estimator-doc-link:hover {\n",
       "  /* unfitted */\n",
       "  background-color: var(--sklearn-color-unfitted-level-3);\n",
       "  color: var(--sklearn-color-background);\n",
       "  text-decoration: none;\n",
       "}\n",
       "\n",
       "div.sk-estimator.fitted:hover .sk-estimator-doc-link.fitted:hover,\n",
       ".sk-estimator-doc-link.fitted:hover,\n",
       "div.sk-label-container:hover .sk-estimator-doc-link.fitted:hover,\n",
       ".sk-estimator-doc-link.fitted:hover {\n",
       "  /* fitted */\n",
       "  background-color: var(--sklearn-color-fitted-level-3);\n",
       "  color: var(--sklearn-color-background);\n",
       "  text-decoration: none;\n",
       "}\n",
       "\n",
       "/* Span, style for the box shown on hovering the info icon */\n",
       ".sk-estimator-doc-link span {\n",
       "  display: none;\n",
       "  z-index: 9999;\n",
       "  position: relative;\n",
       "  font-weight: normal;\n",
       "  right: .2ex;\n",
       "  padding: .5ex;\n",
       "  margin: .5ex;\n",
       "  width: min-content;\n",
       "  min-width: 20ex;\n",
       "  max-width: 50ex;\n",
       "  color: var(--sklearn-color-text);\n",
       "  box-shadow: 2pt 2pt 4pt #999;\n",
       "  /* unfitted */\n",
       "  background: var(--sklearn-color-unfitted-level-0);\n",
       "  border: .5pt solid var(--sklearn-color-unfitted-level-3);\n",
       "}\n",
       "\n",
       ".sk-estimator-doc-link.fitted span {\n",
       "  /* fitted */\n",
       "  background: var(--sklearn-color-fitted-level-0);\n",
       "  border: var(--sklearn-color-fitted-level-3);\n",
       "}\n",
       "\n",
       ".sk-estimator-doc-link:hover span {\n",
       "  display: block;\n",
       "}\n",
       "\n",
       "/* \"?\"-specific style due to the `<a>` HTML tag */\n",
       "\n",
       "#sk-container-id-1 a.estimator_doc_link {\n",
       "  float: right;\n",
       "  font-size: 1rem;\n",
       "  line-height: 1em;\n",
       "  font-family: monospace;\n",
       "  background-color: var(--sklearn-color-background);\n",
       "  border-radius: 1rem;\n",
       "  height: 1rem;\n",
       "  width: 1rem;\n",
       "  text-decoration: none;\n",
       "  /* unfitted */\n",
       "  color: var(--sklearn-color-unfitted-level-1);\n",
       "  border: var(--sklearn-color-unfitted-level-1) 1pt solid;\n",
       "}\n",
       "\n",
       "#sk-container-id-1 a.estimator_doc_link.fitted {\n",
       "  /* fitted */\n",
       "  border: var(--sklearn-color-fitted-level-1) 1pt solid;\n",
       "  color: var(--sklearn-color-fitted-level-1);\n",
       "}\n",
       "\n",
       "/* On hover */\n",
       "#sk-container-id-1 a.estimator_doc_link:hover {\n",
       "  /* unfitted */\n",
       "  background-color: var(--sklearn-color-unfitted-level-3);\n",
       "  color: var(--sklearn-color-background);\n",
       "  text-decoration: none;\n",
       "}\n",
       "\n",
       "#sk-container-id-1 a.estimator_doc_link.fitted:hover {\n",
       "  /* fitted */\n",
       "  background-color: var(--sklearn-color-fitted-level-3);\n",
       "}\n",
       "</style><div id=\"sk-container-id-1\" class=\"sk-top-container\"><div class=\"sk-text-repr-fallback\"><pre>GridSearchCV(cv=5,\n",
       "             estimator=RandomForestClassifier(class_weight=&#x27;balanced_subsample&#x27;),\n",
       "             n_jobs=8,\n",
       "             param_grid={&#x27;criterion&#x27;: (&#x27;gini&#x27;, &#x27;entropy&#x27;, &#x27;log_loss&#x27;),\n",
       "                         &#x27;max_depth&#x27;: (5, 10, 20, None),\n",
       "                         &#x27;max_features&#x27;: (&#x27;sqrt&#x27;, &#x27;log2&#x27;),\n",
       "                         &#x27;n_estimators&#x27;: (50, 100, 200)},\n",
       "             scoring=&#x27;f1&#x27;)</pre><b>In a Jupyter environment, please rerun this cell to show the HTML representation or trust the notebook. <br />On GitHub, the HTML representation is unable to render, please try loading this page with nbviewer.org.</b></div><div class=\"sk-container\" hidden><div class=\"sk-item sk-dashed-wrapped\"><div class=\"sk-label-container\"><div class=\"sk-label fitted sk-toggleable\"><input class=\"sk-toggleable__control sk-hidden--visually\" id=\"sk-estimator-id-1\" type=\"checkbox\" ><label for=\"sk-estimator-id-1\" class=\"sk-toggleable__label fitted sk-toggleable__label-arrow fitted\">&nbsp;&nbsp;GridSearchCV<a class=\"sk-estimator-doc-link fitted\" rel=\"noreferrer\" target=\"_blank\" href=\"https://scikit-learn.org/1.5/modules/generated/sklearn.model_selection.GridSearchCV.html\">?<span>Documentation for GridSearchCV</span></a><span class=\"sk-estimator-doc-link fitted\">i<span>Fitted</span></span></label><div class=\"sk-toggleable__content fitted\"><pre>GridSearchCV(cv=5,\n",
       "             estimator=RandomForestClassifier(class_weight=&#x27;balanced_subsample&#x27;),\n",
       "             n_jobs=8,\n",
       "             param_grid={&#x27;criterion&#x27;: (&#x27;gini&#x27;, &#x27;entropy&#x27;, &#x27;log_loss&#x27;),\n",
       "                         &#x27;max_depth&#x27;: (5, 10, 20, None),\n",
       "                         &#x27;max_features&#x27;: (&#x27;sqrt&#x27;, &#x27;log2&#x27;),\n",
       "                         &#x27;n_estimators&#x27;: (50, 100, 200)},\n",
       "             scoring=&#x27;f1&#x27;)</pre></div> </div></div><div class=\"sk-parallel\"><div class=\"sk-parallel-item\"><div class=\"sk-item\"><div class=\"sk-label-container\"><div class=\"sk-label fitted sk-toggleable\"><input class=\"sk-toggleable__control sk-hidden--visually\" id=\"sk-estimator-id-2\" type=\"checkbox\" ><label for=\"sk-estimator-id-2\" class=\"sk-toggleable__label fitted sk-toggleable__label-arrow fitted\">best_estimator_: RandomForestClassifier</label><div class=\"sk-toggleable__content fitted\"><pre>RandomForestClassifier(class_weight=&#x27;balanced_subsample&#x27;, max_depth=10,\n",
       "                       max_features=&#x27;log2&#x27;, n_estimators=200)</pre></div> </div></div><div class=\"sk-serial\"><div class=\"sk-item\"><div class=\"sk-estimator fitted sk-toggleable\"><input class=\"sk-toggleable__control sk-hidden--visually\" id=\"sk-estimator-id-3\" type=\"checkbox\" ><label for=\"sk-estimator-id-3\" class=\"sk-toggleable__label fitted sk-toggleable__label-arrow fitted\">&nbsp;RandomForestClassifier<a class=\"sk-estimator-doc-link fitted\" rel=\"noreferrer\" target=\"_blank\" href=\"https://scikit-learn.org/1.5/modules/generated/sklearn.ensemble.RandomForestClassifier.html\">?<span>Documentation for RandomForestClassifier</span></a></label><div class=\"sk-toggleable__content fitted\"><pre>RandomForestClassifier(class_weight=&#x27;balanced_subsample&#x27;, max_depth=10,\n",
       "                       max_features=&#x27;log2&#x27;, n_estimators=200)</pre></div> </div></div></div></div></div></div></div></div></div>"
      ],
      "text/plain": [
       "GridSearchCV(cv=5,\n",
       "             estimator=RandomForestClassifier(class_weight='balanced_subsample'),\n",
       "             n_jobs=8,\n",
       "             param_grid={'criterion': ('gini', 'entropy', 'log_loss'),\n",
       "                         'max_depth': (5, 10, 20, None),\n",
       "                         'max_features': ('sqrt', 'log2'),\n",
       "                         'n_estimators': (50, 100, 200)},\n",
       "             scoring='f1')"
      ]
     },
     "execution_count": 10,
     "metadata": {},
     "output_type": "execute_result"
    }
   ],
   "source": [
    "classifier = RandomForestClassifier(class_weight=\"balanced_subsample\")\n",
    "gridsearch = GridSearchCV(classifier, parameters, cv=5, n_jobs=8, scoring=\"f1\", verbose=0)\n",
    "gridsearch.fit(X, Y)"
   ]
  },
  {
   "cell_type": "code",
   "execution_count": 11,
   "id": "c43189d3-10f2-4124-9899-a38667163fd6",
   "metadata": {},
   "outputs": [
    {
     "data": {
      "text/html": [
       "<div>\n",
       "<style scoped>\n",
       "    .dataframe tbody tr th:only-of-type {\n",
       "        vertical-align: middle;\n",
       "    }\n",
       "\n",
       "    .dataframe tbody tr th {\n",
       "        vertical-align: top;\n",
       "    }\n",
       "\n",
       "    .dataframe thead th {\n",
       "        text-align: right;\n",
       "    }\n",
       "</style>\n",
       "<table border=\"1\" class=\"dataframe\">\n",
       "  <thead>\n",
       "    <tr style=\"text-align: right;\">\n",
       "      <th></th>\n",
       "      <th>mean_fit_time</th>\n",
       "      <th>std_fit_time</th>\n",
       "      <th>mean_score_time</th>\n",
       "      <th>std_score_time</th>\n",
       "      <th>param_criterion</th>\n",
       "      <th>param_max_depth</th>\n",
       "      <th>param_max_features</th>\n",
       "      <th>param_n_estimators</th>\n",
       "      <th>params</th>\n",
       "      <th>split0_test_score</th>\n",
       "      <th>split1_test_score</th>\n",
       "      <th>split2_test_score</th>\n",
       "      <th>split3_test_score</th>\n",
       "      <th>split4_test_score</th>\n",
       "      <th>mean_test_score</th>\n",
       "      <th>std_test_score</th>\n",
       "      <th>rank_test_score</th>\n",
       "    </tr>\n",
       "  </thead>\n",
       "  <tbody>\n",
       "    <tr>\n",
       "      <th>11</th>\n",
       "      <td>40.171070</td>\n",
       "      <td>8.030515</td>\n",
       "      <td>1.208293</td>\n",
       "      <td>0.029832</td>\n",
       "      <td>gini</td>\n",
       "      <td>10.0</td>\n",
       "      <td>log2</td>\n",
       "      <td>200</td>\n",
       "      <td>{'criterion': 'gini', 'max_depth': 10, 'max_fe...</td>\n",
       "      <td>0.448180</td>\n",
       "      <td>0.452763</td>\n",
       "      <td>0.447130</td>\n",
       "      <td>0.450937</td>\n",
       "      <td>0.439122</td>\n",
       "      <td>0.447626</td>\n",
       "      <td>0.004695</td>\n",
       "      <td>1</td>\n",
       "    </tr>\n",
       "    <tr>\n",
       "      <th>8</th>\n",
       "      <td>38.485004</td>\n",
       "      <td>3.287235</td>\n",
       "      <td>1.392829</td>\n",
       "      <td>0.359814</td>\n",
       "      <td>gini</td>\n",
       "      <td>10.0</td>\n",
       "      <td>sqrt</td>\n",
       "      <td>200</td>\n",
       "      <td>{'criterion': 'gini', 'max_depth': 10, 'max_fe...</td>\n",
       "      <td>0.446942</td>\n",
       "      <td>0.452777</td>\n",
       "      <td>0.447633</td>\n",
       "      <td>0.449667</td>\n",
       "      <td>0.439645</td>\n",
       "      <td>0.447333</td>\n",
       "      <td>0.004346</td>\n",
       "      <td>2</td>\n",
       "    </tr>\n",
       "    <tr>\n",
       "      <th>10</th>\n",
       "      <td>23.387197</td>\n",
       "      <td>5.862711</td>\n",
       "      <td>0.844320</td>\n",
       "      <td>0.237863</td>\n",
       "      <td>gini</td>\n",
       "      <td>10.0</td>\n",
       "      <td>log2</td>\n",
       "      <td>100</td>\n",
       "      <td>{'criterion': 'gini', 'max_depth': 10, 'max_fe...</td>\n",
       "      <td>0.447911</td>\n",
       "      <td>0.451466</td>\n",
       "      <td>0.447738</td>\n",
       "      <td>0.449293</td>\n",
       "      <td>0.439522</td>\n",
       "      <td>0.447186</td>\n",
       "      <td>0.004058</td>\n",
       "      <td>3</td>\n",
       "    </tr>\n",
       "    <tr>\n",
       "      <th>35</th>\n",
       "      <td>42.639071</td>\n",
       "      <td>8.318780</td>\n",
       "      <td>1.385243</td>\n",
       "      <td>0.299595</td>\n",
       "      <td>entropy</td>\n",
       "      <td>10.0</td>\n",
       "      <td>log2</td>\n",
       "      <td>200</td>\n",
       "      <td>{'criterion': 'entropy', 'max_depth': 10, 'max...</td>\n",
       "      <td>0.446961</td>\n",
       "      <td>0.451525</td>\n",
       "      <td>0.448394</td>\n",
       "      <td>0.448842</td>\n",
       "      <td>0.439335</td>\n",
       "      <td>0.447011</td>\n",
       "      <td>0.004113</td>\n",
       "      <td>4</td>\n",
       "    </tr>\n",
       "    <tr>\n",
       "      <th>34</th>\n",
       "      <td>21.225539</td>\n",
       "      <td>4.643813</td>\n",
       "      <td>0.750367</td>\n",
       "      <td>0.172140</td>\n",
       "      <td>entropy</td>\n",
       "      <td>10.0</td>\n",
       "      <td>log2</td>\n",
       "      <td>100</td>\n",
       "      <td>{'criterion': 'entropy', 'max_depth': 10, 'max...</td>\n",
       "      <td>0.448017</td>\n",
       "      <td>0.451783</td>\n",
       "      <td>0.446760</td>\n",
       "      <td>0.449819</td>\n",
       "      <td>0.438500</td>\n",
       "      <td>0.446976</td>\n",
       "      <td>0.004564</td>\n",
       "      <td>5</td>\n",
       "    </tr>\n",
       "  </tbody>\n",
       "</table>\n",
       "</div>"
      ],
      "text/plain": [
       "    mean_fit_time  std_fit_time  mean_score_time  std_score_time  \\\n",
       "11      40.171070      8.030515         1.208293        0.029832   \n",
       "8       38.485004      3.287235         1.392829        0.359814   \n",
       "10      23.387197      5.862711         0.844320        0.237863   \n",
       "35      42.639071      8.318780         1.385243        0.299595   \n",
       "34      21.225539      4.643813         0.750367        0.172140   \n",
       "\n",
       "   param_criterion  param_max_depth param_max_features  param_n_estimators  \\\n",
       "11            gini             10.0               log2                 200   \n",
       "8             gini             10.0               sqrt                 200   \n",
       "10            gini             10.0               log2                 100   \n",
       "35         entropy             10.0               log2                 200   \n",
       "34         entropy             10.0               log2                 100   \n",
       "\n",
       "                                               params  split0_test_score  \\\n",
       "11  {'criterion': 'gini', 'max_depth': 10, 'max_fe...           0.448180   \n",
       "8   {'criterion': 'gini', 'max_depth': 10, 'max_fe...           0.446942   \n",
       "10  {'criterion': 'gini', 'max_depth': 10, 'max_fe...           0.447911   \n",
       "35  {'criterion': 'entropy', 'max_depth': 10, 'max...           0.446961   \n",
       "34  {'criterion': 'entropy', 'max_depth': 10, 'max...           0.448017   \n",
       "\n",
       "    split1_test_score  split2_test_score  split3_test_score  \\\n",
       "11           0.452763           0.447130           0.450937   \n",
       "8            0.452777           0.447633           0.449667   \n",
       "10           0.451466           0.447738           0.449293   \n",
       "35           0.451525           0.448394           0.448842   \n",
       "34           0.451783           0.446760           0.449819   \n",
       "\n",
       "    split4_test_score  mean_test_score  std_test_score  rank_test_score  \n",
       "11           0.439122         0.447626        0.004695                1  \n",
       "8            0.439645         0.447333        0.004346                2  \n",
       "10           0.439522         0.447186        0.004058                3  \n",
       "35           0.439335         0.447011        0.004113                4  \n",
       "34           0.438500         0.446976        0.004564                5  "
      ]
     },
     "execution_count": 11,
     "metadata": {},
     "output_type": "execute_result"
    }
   ],
   "source": [
    "pd.DataFrame(gridsearch.cv_results_).sort_values(by=[\"mean_test_score\"], ascending=False,).head()"
   ]
  },
  {
   "cell_type": "markdown",
   "id": "69d71ac4-433a-4df5-9e74-6e3f1d6eac10",
   "metadata": {},
   "source": [
    "Avaliando cutoff ótimo"
   ]
  },
  {
   "cell_type": "code",
   "execution_count": 8,
   "id": "870c6ad6-f2e2-4078-ba09-5ac7f6d2e979",
   "metadata": {},
   "outputs": [],
   "source": [
    "from tqdm import tqdm\n",
    "from sklearn.metrics import f1_score, matthews_corrcoef, roc_curve, roc_auc_score, \\\n",
    "                            classification_report ,confusion_matrix,balanced_accuracy_score, recall_score, precision_score, precision_recall_curve"
   ]
  },
  {
   "cell_type": "code",
   "execution_count": 9,
   "id": "2d2ab997-42e4-45cb-818f-8fc46b4a3a43",
   "metadata": {},
   "outputs": [],
   "source": [
    "def to_labels(pos_probs, threshold):\n",
    "\treturn (pos_probs >= threshold).astype('int')"
   ]
  },
  {
   "cell_type": "code",
   "execution_count": 10,
   "id": "72048dff-5691-45f7-bd03-bc4d851eda57",
   "metadata": {},
   "outputs": [
    {
     "name": "stderr",
     "output_type": "stream",
     "text": [
      "100%|█████████████████████████████████████████████████████████████████████████████████| 100/100 [06:54<00:00,  4.15s/it]\n"
     ]
    }
   ],
   "source": [
    "mccs, balan_accs, f1s, cms = [],[],[], []\n",
    "precisions, recalls = [],[]\n",
    "tprs, fprs, aucs = [], [], []\n",
    "mean_fpr = np.linspace(0, 1, 100)\n",
    "for i in tqdm(range(1,101)):\n",
    "    X_train, X_val, Y_train, Y_val = train_test_split(X, Y, test_size=0.3, random_state=i, stratify=Y)\n",
    "    clf = RandomForestClassifier(class_weight=\"balanced\", max_depth=10, n_estimators=200, criterion=\"gini\", max_features=\"log2\", n_jobs=8)\n",
    "    clf.fit(X_train, Y_train)\n",
    "    y_pred_prob = clf.predict_proba(X_val)\n",
    "    y_pred = to_labels(y_pred_prob, 0.5)[:, 1]\n",
    "    mcc = matthews_corrcoef(Y_val, y_pred)\n",
    "    mccs.append(mcc)\n",
    "    balan_acc = balanced_accuracy_score(Y_val, y_pred)\n",
    "    balan_accs.append(balan_acc)\n",
    "    f1 = f1_score(Y_val, y_pred)\n",
    "    precisions.append(precision_score(Y_val, y_pred))\n",
    "    recalls.append(recall_score(Y_val, y_pred))\n",
    "    f1s.append(f1)\n",
    "    cms.append(confusion_matrix(Y_val, y_pred))\n",
    "    fpr, tpr, thresholds = precision_recall_curve(Y_val, y_pred_prob[:, 1], pos_label=1, drop_intermediate=True)\n",
    "    inter_tpr = np.interp(mean_fpr, fpr, tpr)\n",
    "    tprs.append(inter_tpr); #fprs.append(fpr)\n",
    "    aucs.append(roc_auc_score(Y_val, y_pred_prob[:, 1]))"
   ]
  },
  {
   "cell_type": "code",
   "execution_count": 11,
   "id": "033acda9-acd8-41bc-8c11-cf8484bb3040",
   "metadata": {},
   "outputs": [
    {
     "name": "stdout",
     "output_type": "stream",
     "text": [
      "ACC Balanceada: 0.7493 +- 0.0018\n",
      "ROC-AUC: 0.8269 +- 0.0016\n",
      "MCC: 0.3647 +- 0.0025\n",
      "F1: 0.4475 +- 0.0018\n",
      "Precision: 0.3157 +- 0.0015\n",
      "Recall: 0.7680 +- 0.0046\n"
     ]
    }
   ],
   "source": [
    "print(f\"ACC Balanceada: {np.mean(balan_accs):.4f} +- {np.std(balan_accs):.4f}\")\n",
    "print(f\"ROC-AUC: {np.mean(aucs):.4f} +- {np.std(aucs):.4f}\")\n",
    "print(f\"MCC: {np.mean(mccs):.4f} +- {np.std(mccs):.4f}\")\n",
    "print(f\"F1: {np.mean(f1s):.4f} +- {np.std(f1s):.4f}\")\n",
    "print(f\"Precision: {np.mean(precisions):.4f} +- {np.std(precisions):.4f}\")\n",
    "print(f\"Recall: {np.mean(recalls):.4f} +- {np.std(recalls):.4f}\")"
   ]
  },
  {
   "cell_type": "code",
   "execution_count": 12,
   "id": "51d9f44c-6355-488d-81e6-96e04c7d0ace",
   "metadata": {},
   "outputs": [
    {
     "data": {
      "text/plain": [
       "<Axes: >"
      ]
     },
     "execution_count": 12,
     "metadata": {},
     "output_type": "execute_result"
    },
    {
     "data": {
      "image/png": "[encoded data removed]",
      "text/plain": [
       "<Figure size 640x480 with 2 Axes>"
      ]
     },
     "metadata": {},
     "output_type": "display_data"
    }
   ],
   "source": [
    "cms = np.array(cms)\n",
    "\n",
    "sns.heatmap(cms.mean(axis=0), annot=True, fmt=\".2f\")"
   ]
  },
  {
   "cell_type": "code",
   "execution_count": 13,
   "id": "97fb810f-9fc6-468b-a769-b82f5a123a55",
   "metadata": {},
   "outputs": [
    {
     "data": {
      "text/plain": [
       "<matplotlib.legend.Legend at 0x7f7d535491e0>"
      ]
     },
     "execution_count": 13,
     "metadata": {},
     "output_type": "execute_result"
    },
    {
     "data": {
      "text/plain": [
       "<Figure size 640x480 with 0 Axes>"
      ]
     },
     "metadata": {},
     "output_type": "display_data"
    },
    {
     "data": {
      "image/png": "[encoded data removed]",
      "text/plain": [
       "<Figure size 1200x960 with 1 Axes>"
      ]
     },
     "metadata": {},
     "output_type": "display_data"
    }
   ],
   "source": [
    "plt.figure()\n",
    "# plt.style.use('seaborn-whitegrid')\n",
    "\n",
    "lw = 2\n",
    "plt.figure(figsize=(10, 8), dpi=120)\n",
    "\n",
    "mean_tpr = np.mean(np.array(tprs), axis=0)\n",
    "mean_fpr = np.linspace(0, 1, 100)\n",
    "mean_auc = np.mean(aucs)\n",
    "std_auc = np.std(aucs)\n",
    "\n",
    "plt.plot(\n",
    "    mean_fpr,\n",
    "    mean_tpr,\n",
    "    color=\"b\",\n",
    "    label=r\"Mean ROC (AUC = %0.2f $\\pm$ %0.4f)\" % (mean_auc, std_auc),\n",
    "    lw=2,\n",
    "    alpha=0.8,\n",
    ")\n",
    "\n",
    "std_tpr = np.std(tprs, axis=0)\n",
    "tprs_upper = np.minimum(mean_tpr + std_tpr, 1)\n",
    "tprs_lower = np.maximum(mean_tpr - std_tpr, 0)\n",
    "\n",
    "plt.fill_between(\n",
    "    mean_fpr,\n",
    "    tprs_lower,\n",
    "    tprs_upper,\n",
    "    color=\"blue\",\n",
    "    alpha=0.2,\n",
    "    label=r\"$\\pm$ 1 std. dev.\",\n",
    ")\n",
    "\n",
    "std_tpr = np.std(tprs, axis=0)\n",
    "tprs_upper = np.minimum(mean_tpr + std_tpr*2, 1)\n",
    "tprs_lower = np.maximum(mean_tpr - std_tpr*2, 0)\n",
    "\n",
    "plt.fill_between(\n",
    "    mean_fpr,\n",
    "    tprs_lower,\n",
    "    tprs_upper,\n",
    "    color=\"green\",\n",
    "    alpha=0.2,\n",
    "    label=r\"$\\pm$ 2 std. dev.\",\n",
    ")\n",
    "\n",
    "plt.plot([0, 1], [0, 1], color=\"navy\", lw=lw, linestyle=\"--\")\n",
    "plt.xlim([-0.05, 1.05])\n",
    "plt.ylim([-0.05, 1.05])\n",
    "plt.xticks(fontsize=20)\n",
    "plt.yticks(fontsize=20)\n",
    "plt.xlabel(\"False Positive Rate\", fontsize=20)\n",
    "plt.ylabel(\"True Positive Rate\", fontsize=20)\n",
    "# plt.title(\"Curva ROC\", fontsize=20)\n",
    "plt.legend(loc=\"lower right\",prop={'size': 20})"
   ]
  },
  {
   "cell_type": "markdown",
   "id": "5cbfebb3-3bb6-497c-a2a3-9ead95f646af",
   "metadata": {},
   "source": [
    "Ajuste de cut-off point com F1-Score"
   ]
  },
  {
   "cell_type": "code",
   "execution_count": 14,
   "id": "90b159e4-1870-4c2c-be21-0c1a4d6985f1",
   "metadata": {},
   "outputs": [
    {
     "name": "stderr",
     "output_type": "stream",
     "text": [
      "100%|█████████████████████████████████████████████████████████████████████████████████| 100/100 [12:13<00:00,  7.34s/it]\n"
     ]
    }
   ],
   "source": [
    "thresholds = np.arange(0, 1, 0.01)\n",
    "melhores_thresholds = []\n",
    "mccs, balan_accs, f1s, cms = [],[],[], []\n",
    "tprs, fprs, aucs = [], [], []\n",
    "precisions, recalls = [], []\n",
    "mean_fpr = np.linspace(0, 1, 100)\n",
    "for i in tqdm(range(1,101)):\n",
    "    X_train, X_val, Y_train, Y_val = train_test_split(X, Y, test_size=0.3, random_state=i, stratify=Y)\n",
    "    clf = RandomForestClassifier(class_weight=\"balanced\", max_depth=10, n_estimators=200, criterion=\"gini\", max_features=\"log2\", n_jobs=8)\n",
    "    clf.fit(X_train, Y_train)\n",
    "    # y_pred_proba_train = clf.predict_proba(X_train)\n",
    "    y_pred_prob = clf.predict_proba(X_val)\n",
    "    scores = [f1_score(Y_val, to_labels(y_pred_prob, t)[:, 1]) for t in thresholds]\n",
    "    melhor_treshold = np.array(scores).argmax()\n",
    "    melhores_thresholds.append(thresholds[melhor_treshold])\n",
    "    # y_pred_prob = clf.predict_proba(X_val)\n",
    "    y_pred = to_labels(y_pred_prob, thresholds[melhor_treshold])[:, 1]\n",
    "    mcc = matthews_corrcoef(Y_val, y_pred)\n",
    "    mccs.append(mcc)\n",
    "    balan_acc = balanced_accuracy_score(Y_val, y_pred)\n",
    "    balan_accs.append(balan_acc)\n",
    "    f1 = f1_score(Y_val, y_pred)\n",
    "    f1s.append(f1)\n",
    "    precisions.append(precision_score(Y_val, y_pred))\n",
    "    recalls.append(recall_score(Y_val, y_pred))\n",
    "    cms.append(confusion_matrix(Y_val, y_pred))\n",
    "    fpr, tpr, thresholds_ = roc_curve(Y_val, y_pred_prob[:, 1], pos_label=1, drop_intermediate=True)\n",
    "    inter_tpr = np.interp(mean_fpr, fpr, tpr)\n",
    "    tprs.append(inter_tpr); #fprs.append(fpr)\n",
    "    aucs.append(roc_auc_score(Y_val, y_pred_prob[:, 1]))"
   ]
  },
  {
   "cell_type": "code",
   "execution_count": 15,
   "id": "c521a9cf-8825-4428-b46a-69f4b2b5a778",
   "metadata": {},
   "outputs": [
    {
     "name": "stdout",
     "output_type": "stream",
     "text": [
      "ACC Balanceada: 0.7249 +- 0.0041\n",
      "ROC-AUC: 0.8269 +- 0.0016\n",
      "MCC: 0.3734 +- 0.0031\n",
      "F1: 0.4684 +- 0.0025\n",
      "Precision: 0.3799 +- 0.0073\n",
      "Recall: 0.6116 +- 0.0167\n"
     ]
    }
   ],
   "source": [
    "print(f\"ACC Balanceada: {np.mean(balan_accs):.4f} +- {np.std(balan_accs):.4f}\")\n",
    "print(f\"ROC-AUC: {np.mean(aucs):.4f} +- {np.std(aucs):.4f}\")\n",
    "print(f\"MCC: {np.mean(mccs):.4f} +- {np.std(mccs):.4f}\")\n",
    "print(f\"F1: {np.mean(f1s):.4f} +- {np.std(f1s):.4f}\")\n",
    "print(f\"Precision: {np.mean(precisions):.4f} +- {np.std(precisions):.4f}\")\n",
    "print(f\"Recall: {np.mean(recalls):.4f} +- {np.std(recalls):.4f}\")"
   ]
  },
  {
   "cell_type": "code",
   "execution_count": 16,
   "id": "577a7477-83c8-4921-a332-971ad61b5ac1",
   "metadata": {},
   "outputs": [
    {
     "name": "stdout",
     "output_type": "stream",
     "text": [
      "Média do ponto de corte ótimo: 0.6163000000000001\n"
     ]
    }
   ],
   "source": [
    "print(f\"Média do ponto de corte ótimo: {np.mean(melhores_thresholds)}\")"
   ]
  },
  {
   "cell_type": "code",
   "execution_count": 17,
   "id": "45d19390-ddff-4653-9c26-bde1cd87ab7b",
   "metadata": {},
   "outputs": [
    {
     "data": {
      "text/plain": [
       "<Axes: >"
      ]
     },
     "execution_count": 17,
     "metadata": {},
     "output_type": "execute_result"
    },
    {
     "data": {
      "image/png": "[encoded data removed]",
      "text/plain": [
       "<Figure size 640x480 with 2 Axes>"
      ]
     },
     "metadata": {},
     "output_type": "display_data"
    }
   ],
   "source": [
    "cms = np.array(cms)\n",
    "\n",
    "sns.heatmap(cms.mean(axis=0), annot=True, fmt=\".2f\")"
   ]
  },
  {
   "cell_type": "markdown",
   "id": "abc69795-6c24-49cd-92e5-6a271d72814e",
   "metadata": {},
   "source": [
    "Ajuste de cut-off point com acurácia balanceada"
   ]
  },
  {
   "cell_type": "code",
   "execution_count": 18,
   "id": "d7ea723a-3c9a-4997-84a3-48e097deffbb",
   "metadata": {},
   "outputs": [
    {
     "name": "stderr",
     "output_type": "stream",
     "text": [
      "100%|█████████████████████████████████████████████████████████████████████████████████| 100/100 [13:15<00:00,  7.96s/it]\n"
     ]
    }
   ],
   "source": [
    "thresholds = np.arange(0, 1, 0.01)\n",
    "melhores_thresholds = []\n",
    "mccs, balan_accs, f1s, cms = [],[],[], []\n",
    "tprs, fprs, aucs = [], [], []\n",
    "precisions, recalls = [], []\n",
    "mean_fpr = np.linspace(0, 1, 100)\n",
    "for i in tqdm(range(1,101)):\n",
    "    X_train, X_val, Y_train, Y_val = train_test_split(X, Y, test_size=0.3, random_state=i, stratify=Y)\n",
    "    clf = RandomForestClassifier(class_weight=\"balanced\", max_depth=10, n_estimators=200, criterion=\"gini\", max_features=\"log2\", n_jobs=8)\n",
    "    clf.fit(X_train, Y_train)\n",
    "    # y_pred_proba_train = clf.predict_proba(X_train)\n",
    "    y_pred_prob = clf.predict_proba(X_val)\n",
    "    scores = [balanced_accuracy_score(Y_val, to_labels(y_pred_prob, t)[:, 1]) for t in thresholds]\n",
    "    melhor_treshold = np.array(scores).argmax()\n",
    "    melhores_thresholds.append(thresholds[melhor_treshold])\n",
    "    # y_pred_prob = clf.predict_proba(X_val)\n",
    "    y_pred = to_labels(y_pred_prob, thresholds[melhor_treshold])[:, 1]\n",
    "    mcc = matthews_corrcoef(Y_val, y_pred)\n",
    "    mccs.append(mcc)\n",
    "    balan_acc = balanced_accuracy_score(Y_val, y_pred)\n",
    "    balan_accs.append(balan_acc)\n",
    "    f1 = f1_score(Y_val, y_pred)\n",
    "    f1s.append(f1)\n",
    "    precisions.append(precision_score(Y_val, y_pred))\n",
    "    recalls.append(recall_score(Y_val, y_pred))\n",
    "    cms.append(confusion_matrix(Y_val, y_pred))\n",
    "    fpr, tpr, thresholds_ = roc_curve(Y_val, y_pred_prob[:, 1], pos_label=1, drop_intermediate=True)\n",
    "    inter_tpr = np.interp(mean_fpr, fpr, tpr)\n",
    "    tprs.append(inter_tpr); #fprs.append(fpr)\n",
    "    aucs.append(roc_auc_score(Y_val, y_pred_prob[:, 1]))"
   ]
  },
  {
   "cell_type": "code",
   "execution_count": 19,
   "id": "533703a2-b38e-4864-a80c-15b2a1122663",
   "metadata": {},
   "outputs": [
    {
     "name": "stdout",
     "output_type": "stream",
     "text": [
      "ACC Balanceada: 0.7502 +- 0.0016\n",
      "ROC-AUC: 0.8269 +- 0.0016\n",
      "MCC: 0.3611 +- 0.0042\n",
      "F1: 0.4412 +- 0.0055\n",
      "Precision: 0.3060 +- 0.0075\n",
      "Recall: 0.7914 +- 0.0166\n"
     ]
    }
   ],
   "source": [
    "print(f\"ACC Balanceada: {np.mean(balan_accs):.4f} +- {np.std(balan_accs):.4f}\")\n",
    "print(f\"ROC-AUC: {np.mean(aucs):.4f} +- {np.std(aucs):.4f}\")\n",
    "print(f\"MCC: {np.mean(mccs):.4f} +- {np.std(mccs):.4f}\")\n",
    "print(f\"F1: {np.mean(f1s):.4f} +- {np.std(f1s):.4f}\")\n",
    "print(f\"Precision: {np.mean(precisions):.4f} +- {np.std(precisions):.4f}\")\n",
    "print(f\"Recall: {np.mean(recalls):.4f} +- {np.std(recalls):.4f}\")"
   ]
  },
  {
   "cell_type": "code",
   "execution_count": 20,
   "id": "33668789-1eca-49be-a01f-e02113be987a",
   "metadata": {},
   "outputs": [
    {
     "name": "stdout",
     "output_type": "stream",
     "text": [
      "Média do ponto de corte ótimo: 0.48009999999999997\n"
     ]
    }
   ],
   "source": [
    "print(f\"Média do ponto de corte ótimo: {np.mean(melhores_thresholds)}\")"
   ]
  },
  {
   "cell_type": "code",
   "execution_count": 21,
   "id": "5bc0733d-47e0-4c8c-8e5a-ecd51af748b3",
   "metadata": {},
   "outputs": [
    {
     "data": {
      "text/plain": [
       "<Axes: >"
      ]
     },
     "execution_count": 21,
     "metadata": {},
     "output_type": "execute_result"
    },
    {
     "data": {
      "image/png": "[encoded data removed]",
      "text/plain": [
       "<Figure size 640x480 with 2 Axes>"
      ]
     },
     "metadata": {},
     "output_type": "display_data"
    }
   ],
   "source": [
    "cms = np.array(cms)\n",
    "\n",
    "sns.heatmap(cms.mean(axis=0), annot=True, fmt=\".2f\")"
   ]
  },
  {
   "cell_type": "markdown",
   "id": "4998639a-e25b-4d28-989f-a8ae206653e4",
   "metadata": {},
   "source": [
    "Ajuste de cut-off point com MCC"
   ]
  },
  {
   "cell_type": "code",
   "execution_count": 22,
   "id": "2d3fe3dd-5429-489a-96b6-560ab9cecf81",
   "metadata": {},
   "outputs": [
    {
     "name": "stderr",
     "output_type": "stream",
     "text": [
      "100%|█████████████████████████████████████████████████████████████████████████████████| 100/100 [11:12<00:00,  6.73s/it]\n"
     ]
    }
   ],
   "source": [
    "thresholds = np.arange(0, 1, 0.01)\n",
    "melhores_thresholds = []\n",
    "mccs, balan_accs, f1s, cms = [],[],[], []\n",
    "tprs, fprs, aucs = [], [], []\n",
    "precisions, recalls = [], []\n",
    "mean_fpr = np.linspace(0, 1, 100)\n",
    "for i in tqdm(range(1,101)):\n",
    "    X_train, X_val, Y_train, Y_val = train_test_split(X, Y, test_size=0.3, random_state=i, stratify=Y)\n",
    "    clf = RandomForestClassifier(class_weight=\"balanced\", max_depth=10, n_estimators=200, criterion=\"gini\", max_features=\"log2\", n_jobs=8)\n",
    "    clf.fit(X_train, Y_train)\n",
    "    # y_pred_proba_train = clf.predict_proba(X_train)\n",
    "    y_pred_prob = clf.predict_proba(X_val)\n",
    "    scores = [matthews_corrcoef(Y_val, to_labels(y_pred_prob, t)[:, 1]) for t in thresholds]\n",
    "    melhor_treshold = np.array(scores).argmax()\n",
    "    melhores_thresholds.append(thresholds[melhor_treshold])\n",
    "    # y_pred_prob = clf.predict_proba(X_val)\n",
    "    y_pred = to_labels(y_pred_prob, thresholds[melhor_treshold])[:, 1]\n",
    "    mcc = matthews_corrcoef(Y_val, y_pred)\n",
    "    mccs.append(mcc)\n",
    "    balan_acc = balanced_accuracy_score(Y_val, y_pred)\n",
    "    balan_accs.append(balan_acc)\n",
    "    f1 = f1_score(Y_val, y_pred)\n",
    "    f1s.append(f1)\n",
    "    precisions.append(precision_score(Y_val, y_pred))\n",
    "    recalls.append(recall_score(Y_val, y_pred))\n",
    "    cms.append(confusion_matrix(Y_val, y_pred))\n",
    "    fpr, tpr, thresholds_ = roc_curve(Y_val, y_pred_prob[:, 1], pos_label=1, drop_intermediate=True)\n",
    "    inter_tpr = np.interp(mean_fpr, fpr, tpr)\n",
    "    tprs.append(inter_tpr); #fprs.append(fpr)\n",
    "    aucs.append(roc_auc_score(Y_val, y_pred_prob[:, 1]))"
   ]
  },
  {
   "cell_type": "code",
   "execution_count": 24,
   "id": "67343387-c393-4f48-96d2-15c2dfb3b690",
   "metadata": {},
   "outputs": [
    {
     "name": "stdout",
     "output_type": "stream",
     "text": [
      "ACC Balanceada: 0.7304 +- 0.0053\n",
      "ROC-AUC: 0.8269 +- 0.0017\n",
      "MCC: 0.3740 +- 0.0031\n",
      "F1: 0.4677 +- 0.0030\n",
      "Precision: 0.3702 +- 0.0104\n",
      "Recall: 0.6368 +- 0.0250\n"
     ]
    }
   ],
   "source": [
    "print(f\"ACC Balanceada: {np.mean(balan_accs):.4f} +- {np.std(balan_accs):.4f}\")\n",
    "print(f\"ROC-AUC: {np.mean(aucs):.4f} +- {np.std(aucs):.4f}\")\n",
    "print(f\"MCC: {np.mean(mccs):.4f} +- {np.std(mccs):.4f}\")\n",
    "print(f\"F1: {np.mean(f1s):.4f} +- {np.std(f1s):.4f}\")\n",
    "print(f\"Precision: {np.mean(precisions):.4f} +- {np.std(precisions):.4f}\")\n",
    "print(f\"Recall: {np.mean(recalls):.4f} +- {np.std(recalls):.4f}\")"
   ]
  },
  {
   "cell_type": "code",
   "execution_count": 25,
   "id": "4f9a4051-b7fb-47a7-886b-257986315a64",
   "metadata": {},
   "outputs": [
    {
     "name": "stdout",
     "output_type": "stream",
     "text": [
      "Média do ponto de corte ótimo: 0.6005999999999999\n"
     ]
    }
   ],
   "source": [
    "print(f\"Média do ponto de corte ótimo: {np.mean(melhores_thresholds)}\")"
   ]
  },
  {
   "cell_type": "code",
   "execution_count": 26,
   "id": "5fb5a1f3-7243-4e13-bf58-d72e19230b43",
   "metadata": {},
   "outputs": [
    {
     "data": {
      "text/plain": [
       "<Axes: >"
      ]
     },
     "execution_count": 26,
     "metadata": {},
     "output_type": "execute_result"
    },
    {
     "data": {
      "image/png": "[encoded data removed]",
      "text/plain": [
       "<Figure size 640x480 with 2 Axes>"
      ]
     },
     "metadata": {},
     "output_type": "display_data"
    }
   ],
   "source": [
    "cms = np.array(cms)\n",
    "\n",
    "sns.heatmap(cms.mean(axis=0), annot=True, fmt=\".2f\")"
   ]
  }
 ],
 "metadata": {
  "kernelspec": {
   "display_name": "Python 3 (ipykernel)",
   "language": "python",
   "name": "python3"
  },
  "language_info": {
   "codemirror_mode": {
    "name": "ipython",
    "version": 3
   },
   "file_extension": ".py",
   "mimetype": "text/x-python",
   "name": "python",
   "nbconvert_exporter": "python",
   "pygments_lexer": "ipython3",
   "version": "3.10.12"
  }
 },
 "nbformat": 4,
 "nbformat_minor": 5
}
